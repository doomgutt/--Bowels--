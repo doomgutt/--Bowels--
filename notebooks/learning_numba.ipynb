{
 "cells": [
  {
   "cell_type": "code",
   "execution_count": 28,
   "metadata": {},
   "outputs": [],
   "source": [
    "%matplotlib inline"
   ]
  },
  {
   "cell_type": "code",
   "execution_count": 29,
   "metadata": {},
   "outputs": [],
   "source": [
    "import numpy as np\n",
    "from numba import jit, njit, vectorize\n",
    "import random\n"
   ]
  },
  {
   "cell_type": "markdown",
   "metadata": {},
   "source": [
    "# Tutorial 1\n",
    "https://www.youtube.com/watch?v=x58W9A2lnQc&list=WL&index=6&t=1s\n",
    "\n",
    "## Reading list\n",
    "- [Deviation from Python Semantics](https://numba.pydata.org/numba-doc/dev/reference/pysemantics.html)\n",
    "- [Compiling code with @jit](http://numba.pydata.org/numba-doc/latest/user/jit.html#eager-compilation)\n",
    "- [Flexible specialization with @generated_jit](https://numba.pydata.org/numba-doc/dev/user/generated-jit.html)\n",
    "- [Compiling classes with @jitclass](https://numba.pydata.org/numba-doc/dev/user/jitclass.html)\n",
    "- [Troubleshooting and tips](https://numba.pydata.org/numba-doc/dev/user/troubleshoot.html)\n",
    "- [Types and signatures](https://numba.pydata.org/numba-doc/dev/reference/types.html)\n",
    "- [Compiling code ahead of time](https://numba.pydata.org/numba-doc/dev/user/pycc.html)\n",
    "- [Performance tips](https://numba.pydata.org/numba-doc/dev/user/performance-tips.html#fastmath)\n",
    "- [The Threading layers](https://numba.pydata.org/numba-doc/dev/user/threading-layer.html)\n",
    "\n",
    "## GPU stuff\n",
    "- [Numba for CUDA GPUs](https://numba.pydata.org/numba-doc/dev/cuda/index.html)\n",
    "- [Numba for AMD ROC GPUs](https://numba.pydata.org/numba-doc/dev/roc/index.html)\n",
    "\n",
    "## FAQ\n",
    "- [FAQ](https://numba.pydata.org/numba-doc/dev/user/faq.html)"
   ]
  },
  {
   "cell_type": "markdown",
   "metadata": {},
   "source": [
    "## Numba site example"
   ]
  },
  {
   "cell_type": "code",
   "execution_count": 30,
   "metadata": {},
   "outputs": [],
   "source": [
    "def monte_carlo_pi(nsamples):\n",
    "    acc = 0\n",
    "    for i in range(nsamples):\n",
    "        x = random.random()\n",
    "        y = random.random()\n",
    "        if (x ** 2 + y ** 2) < 1.0:\n",
    "            acc += 1\n",
    "    return 4.0 * acc / nsamples\n"
   ]
  },
  {
   "cell_type": "markdown",
   "metadata": {},
   "source": [
    "Without jit"
   ]
  },
  {
   "cell_type": "code",
   "execution_count": 31,
   "metadata": {},
   "outputs": [
    {
     "name": "stdout",
     "output_type": "stream",
     "text": [
      "CPU times: total: 0 ns\n",
      "Wall time: 14 ms\n"
     ]
    },
    {
     "data": {
      "text/plain": [
       "3.1704"
      ]
     },
     "execution_count": 31,
     "metadata": {},
     "output_type": "execute_result"
    }
   ],
   "source": [
    "%time monte_carlo_pi(10000)"
   ]
  },
  {
   "cell_type": "code",
   "execution_count": 32,
   "metadata": {},
   "outputs": [],
   "source": [
    "monte_carlo_pi_jit = jit()(monte_carlo_pi)\n"
   ]
  },
  {
   "cell_type": "markdown",
   "metadata": {},
   "source": [
    "First run takes a while to compile"
   ]
  },
  {
   "cell_type": "code",
   "execution_count": 33,
   "metadata": {},
   "outputs": [
    {
     "name": "stdout",
     "output_type": "stream",
     "text": [
      "CPU times: total: 78.1 ms\n",
      "Wall time: 132 ms\n"
     ]
    },
    {
     "data": {
      "text/plain": [
       "3.1392"
      ]
     },
     "execution_count": 33,
     "metadata": {},
     "output_type": "execute_result"
    }
   ],
   "source": [
    "%time monte_carlo_pi_jit(10000)"
   ]
  },
  {
   "cell_type": "markdown",
   "metadata": {},
   "source": [
    "Consecutive runs are blazing fast"
   ]
  },
  {
   "cell_type": "code",
   "execution_count": 34,
   "metadata": {},
   "outputs": [
    {
     "name": "stdout",
     "output_type": "stream",
     "text": [
      "CPU times: total: 0 ns\n",
      "Wall time: 0 ns\n"
     ]
    },
    {
     "data": {
      "text/plain": [
       "3.1496"
      ]
     },
     "execution_count": 34,
     "metadata": {},
     "output_type": "execute_result"
    }
   ],
   "source": [
    "%time monte_carlo_pi_jit(10000)\n"
   ]
  },
  {
   "cell_type": "markdown",
   "metadata": {},
   "source": [
    "## Failing with Numba"
   ]
  },
  {
   "cell_type": "markdown",
   "metadata": {},
   "source": [
    "### jit vs njit"
   ]
  },
  {
   "cell_type": "code",
   "execution_count": 35,
   "metadata": {},
   "outputs": [],
   "source": [
    "def original_function(input_list):\n",
    "    output_list = []\n",
    "    for item in input_list:\n",
    "        if item % 2 == 0:\n",
    "            output_list.append(2)\n",
    "        else:\n",
    "            output_list.append('1')\n",
    "    return output_list\n",
    "\n",
    "test_array = list(range(100000))"
   ]
  },
  {
   "cell_type": "code",
   "execution_count": 36,
   "metadata": {},
   "outputs": [
    {
     "name": "stdout",
     "output_type": "stream",
     "text": [
      "CPU times: total: 15.6 ms\n",
      "Wall time: 16 ms\n"
     ]
    }
   ],
   "source": [
    "%time _ = original_function(test_array)"
   ]
  },
  {
   "cell_type": "code",
   "execution_count": 37,
   "metadata": {},
   "outputs": [],
   "source": [
    "jitted_function = jit()(original_function)"
   ]
  },
  {
   "cell_type": "code",
   "execution_count": 38,
   "metadata": {},
   "outputs": [
    {
     "name": "stderr",
     "output_type": "stream",
     "text": [
      "C:\\Users\\demva\\AppData\\Local\\Temp\\ipykernel_13304\\2450009860.py:1: NumbaWarning: \u001b[1m\n",
      "Compilation is falling back to object mode WITH looplifting enabled because Function \"original_function\" failed type inference due to: \u001b[1m\u001b[1m\u001b[1mInvalid use of BoundFunction(list.append for list(int64)<iv=None>) with parameters (Literal[str](1))\n",
      "\u001b[0m\n",
      "\u001b[0m\u001b[1mDuring: resolving callee type: BoundFunction(list.append for list(int64)<iv=None>)\u001b[0m\n",
      "\u001b[0m\u001b[1mDuring: typing of call at C:\\Users\\demva\\AppData\\Local\\Temp\\ipykernel_13304\\2450009860.py (7)\n",
      "\u001b[0m\n",
      "\u001b[1m\n",
      "File \"C:\\Users\\demva\\AppData\\Local\\Temp\\ipykernel_13304\\2450009860.py\", line 7:\u001b[0m\n",
      "\u001b[1mdef original_function(input_list):\n",
      "    <source elided>\n",
      "        else:\n",
      "\u001b[1m            output_list.append('1')\n",
      "\u001b[0m            \u001b[1m^\u001b[0m\u001b[0m\n",
      "\u001b[0m\n",
      "  def original_function(input_list):\n",
      "C:\\Users\\demva\\AppData\\Local\\Temp\\ipykernel_13304\\2450009860.py:1: NumbaWarning: \u001b[1m\n",
      "Compilation is falling back to object mode WITHOUT looplifting enabled because Function \"original_function\" failed type inference due to: \u001b[1m\u001b[1mCannot determine Numba type of <class 'numba.core.dispatcher.LiftedLoop'>\u001b[0m\n",
      "\u001b[1m\n",
      "File \"C:\\Users\\demva\\AppData\\Local\\Temp\\ipykernel_13304\\2450009860.py\", line 3:\u001b[0m\n",
      "\u001b[1mdef original_function(input_list):\n",
      "    <source elided>\n",
      "    output_list = []\n",
      "\u001b[1m    for item in input_list:\n",
      "\u001b[0m    \u001b[1m^\u001b[0m\u001b[0m\n",
      "\u001b[0m\u001b[0m\n",
      "  def original_function(input_list):\n",
      "c:\\Users\\demva\\anaconda3\\envs\\bowels\\lib\\site-packages\\numba\\core\\object_mode_passes.py:151: NumbaWarning: \u001b[1mFunction \"original_function\" was compiled in object mode without forceobj=True, but has lifted loops.\n",
      "\u001b[1m\n",
      "File \"C:\\Users\\demva\\AppData\\Local\\Temp\\ipykernel_13304\\2450009860.py\", line 2:\u001b[0m\n",
      "\u001b[1mdef original_function(input_list):\n",
      "\u001b[1m    output_list = []\n",
      "\u001b[0m    \u001b[1m^\u001b[0m\u001b[0m\n",
      "\u001b[0m\n",
      "  warnings.warn(errors.NumbaWarning(warn_msg,\n",
      "c:\\Users\\demva\\anaconda3\\envs\\bowels\\lib\\site-packages\\numba\\core\\object_mode_passes.py:161: NumbaDeprecationWarning: \u001b[1m\n",
      "Fall-back from the nopython compilation path to the object mode compilation path has been detected, this is deprecated behaviour.\n",
      "\n",
      "For more information visit https://numba.readthedocs.io/en/stable/reference/deprecation.html#deprecation-of-object-mode-fall-back-behaviour-when-using-jit\n",
      "\u001b[1m\n",
      "File \"C:\\Users\\demva\\AppData\\Local\\Temp\\ipykernel_13304\\2450009860.py\", line 2:\u001b[0m\n",
      "\u001b[1mdef original_function(input_list):\n",
      "\u001b[1m    output_list = []\n",
      "\u001b[0m    \u001b[1m^\u001b[0m\u001b[0m\n",
      "\u001b[0m\n",
      "  warnings.warn(errors.NumbaDeprecationWarning(msg,\n",
      "C:\\Users\\demva\\AppData\\Local\\Temp\\ipykernel_13304\\2450009860.py:1: NumbaWarning: \u001b[1m\n",
      "Compilation is falling back to object mode WITHOUT looplifting enabled because Function \"original_function\" failed type inference due to: \u001b[1m\u001b[1mnon-precise type pyobject\u001b[0m\n",
      "\u001b[0m\u001b[1mDuring: typing of argument at C:\\Users\\demva\\AppData\\Local\\Temp\\ipykernel_13304\\2450009860.py (3)\u001b[0m\n",
      "\u001b[1m\n",
      "File \"C:\\Users\\demva\\AppData\\Local\\Temp\\ipykernel_13304\\2450009860.py\", line 3:\u001b[0m\n",
      "\u001b[1mdef original_function(input_list):\n",
      "    <source elided>\n",
      "    output_list = []\n",
      "\u001b[1m    for item in input_list:\n",
      "\u001b[0m    \u001b[1m^\u001b[0m\u001b[0m\n",
      "\u001b[0m\n",
      "  def original_function(input_list):\n",
      "c:\\Users\\demva\\anaconda3\\envs\\bowels\\lib\\site-packages\\numba\\core\\object_mode_passes.py:151: NumbaWarning: \u001b[1mFunction \"original_function\" was compiled in object mode without forceobj=True.\n",
      "\u001b[1m\n",
      "File \"C:\\Users\\demva\\AppData\\Local\\Temp\\ipykernel_13304\\2450009860.py\", line 3:\u001b[0m\n",
      "\u001b[1mdef original_function(input_list):\n",
      "    <source elided>\n",
      "    output_list = []\n",
      "\u001b[1m    for item in input_list:\n",
      "\u001b[0m    \u001b[1m^\u001b[0m\u001b[0m\n",
      "\u001b[0m\n",
      "  warnings.warn(errors.NumbaWarning(warn_msg,\n",
      "c:\\Users\\demva\\anaconda3\\envs\\bowels\\lib\\site-packages\\numba\\core\\object_mode_passes.py:161: NumbaDeprecationWarning: \u001b[1m\n",
      "Fall-back from the nopython compilation path to the object mode compilation path has been detected, this is deprecated behaviour.\n",
      "\n",
      "For more information visit https://numba.readthedocs.io/en/stable/reference/deprecation.html#deprecation-of-object-mode-fall-back-behaviour-when-using-jit\n",
      "\u001b[1m\n",
      "File \"C:\\Users\\demva\\AppData\\Local\\Temp\\ipykernel_13304\\2450009860.py\", line 3:\u001b[0m\n",
      "\u001b[1mdef original_function(input_list):\n",
      "    <source elided>\n",
      "    output_list = []\n",
      "\u001b[1m    for item in input_list:\n",
      "\u001b[0m    \u001b[1m^\u001b[0m\u001b[0m\n",
      "\u001b[0m\n",
      "  warnings.warn(errors.NumbaDeprecationWarning(msg,\n"
     ]
    },
    {
     "name": "stdout",
     "output_type": "stream",
     "text": [
      "CPU times: total: 328 ms\n",
      "Wall time: 384 ms\n"
     ]
    }
   ],
   "source": [
    "%time _ = jitted_function(test_array)"
   ]
  },
  {
   "cell_type": "markdown",
   "metadata": {},
   "source": [
    "Here we should see an error which is suppressed the second time the function is ran. In the error we can see that numba expected `int64` type entries in the `output_list`, but was given a string.\n",
    "\n",
    "Now, jit just throws a warning and falls back on 'object mode', which is basically same as python. To avoid this we want to use njit because it will throw an actual error that we have to then resolve in order to get the proper speed boost."
   ]
  },
  {
   "cell_type": "code",
   "execution_count": 39,
   "metadata": {},
   "outputs": [],
   "source": [
    "njitted_function = njit()(original_function)"
   ]
  },
  {
   "cell_type": "code",
   "execution_count": 40,
   "metadata": {},
   "outputs": [],
   "source": [
    "# %time _ = njitted_function(test_array)"
   ]
  },
  {
   "cell_type": "markdown",
   "metadata": {},
   "source": [
    "We can comment out the broken function"
   ]
  },
  {
   "cell_type": "markdown",
   "metadata": {},
   "source": [
    "### Fixing the function (attempt 1)"
   ]
  },
  {
   "cell_type": "code",
   "execution_count": 41,
   "metadata": {},
   "outputs": [],
   "source": [
    "def original_function(input_list):\n",
    "    output_list = []\n",
    "    for item in input_list:\n",
    "        if item % 2 == 0:\n",
    "            output_list.append(2)\n",
    "        else:\n",
    "            output_list.append(1)\n",
    "    return output_list\n",
    "\n",
    "\n",
    "test_array = list(range(100000))\n"
   ]
  },
  {
   "cell_type": "code",
   "execution_count": 42,
   "metadata": {},
   "outputs": [
    {
     "name": "stdout",
     "output_type": "stream",
     "text": [
      "CPU times: total: 0 ns\n",
      "Wall time: 20 ms\n"
     ]
    }
   ],
   "source": [
    "%time _ = original_function(test_array)"
   ]
  },
  {
   "cell_type": "code",
   "execution_count": 43,
   "metadata": {},
   "outputs": [],
   "source": [
    "njitted_function = njit()(original_function)"
   ]
  },
  {
   "cell_type": "code",
   "execution_count": 44,
   "metadata": {},
   "outputs": [
    {
     "name": "stderr",
     "output_type": "stream",
     "text": [
      "c:\\Users\\demva\\anaconda3\\envs\\bowels\\lib\\site-packages\\numba\\core\\ir_utils.py:2147: NumbaPendingDeprecationWarning: \u001b[1m\n",
      "Encountered the use of a type that is scheduled for deprecation: type 'reflected list' found for argument 'input_list' of function 'original_function'.\n",
      "\n",
      "For more information visit https://numba.readthedocs.io/en/stable/reference/deprecation.html#deprecation-of-reflection-for-list-and-set-types\n",
      "\u001b[1m\n",
      "File \"C:\\Users\\demva\\AppData\\Local\\Temp\\ipykernel_13304\\1362277157.py\", line 1:\u001b[0m\n",
      "\u001b[1m\u001b[1mdef original_function(input_list):\n",
      "\u001b[0m\u001b[1m^\u001b[0m\u001b[0m\n",
      "\u001b[0m\n",
      "  warnings.warn(NumbaPendingDeprecationWarning(msg, loc=loc))\n"
     ]
    },
    {
     "name": "stdout",
     "output_type": "stream",
     "text": [
      "CPU times: total: 375 ms\n",
      "Wall time: 453 ms\n"
     ]
    }
   ],
   "source": [
    "%time _ = njitted_function(test_array)"
   ]
  },
  {
   "cell_type": "markdown",
   "metadata": {},
   "source": [
    "Here comes up another warning talking about \"reflection lists\". Basically this is to do with python lists being confusing for numba, so they should never be used.\n",
    "\n",
    "These should be avoided as much as possible with numba. Here's a link about it:\n",
    "https://numba.pydata.org/numba-doc/dev/user/faq.html"
   ]
  },
  {
   "cell_type": "markdown",
   "metadata": {},
   "source": [
    "### Fixing the function (attempt 2)"
   ]
  },
  {
   "cell_type": "code",
   "execution_count": 45,
   "metadata": {},
   "outputs": [],
   "source": [
    "def original_function(input_list):\n",
    "    output_list = []\n",
    "    for item in input_list:\n",
    "        if item % 2 == 0:\n",
    "            output_list.append(2)\n",
    "        else:\n",
    "            output_list.append(1)\n",
    "    return output_list\n",
    "\n",
    "\n",
    "test_array = np.arange(100000)"
   ]
  },
  {
   "cell_type": "code",
   "execution_count": 46,
   "metadata": {},
   "outputs": [
    {
     "name": "stdout",
     "output_type": "stream",
     "text": [
      "CPU times: total: 0 ns\n",
      "Wall time: 40 ms\n"
     ]
    }
   ],
   "source": [
    "%time _ = original_function(test_array)"
   ]
  },
  {
   "cell_type": "code",
   "execution_count": 47,
   "metadata": {},
   "outputs": [],
   "source": [
    "njitted_function = njit()(original_function)"
   ]
  },
  {
   "cell_type": "code",
   "execution_count": 48,
   "metadata": {},
   "outputs": [
    {
     "name": "stdout",
     "output_type": "stream",
     "text": [
      "CPU times: total: 109 ms\n",
      "Wall time: 130 ms\n"
     ]
    }
   ],
   "source": [
    "%time _ = njitted_function(test_array)"
   ]
  },
  {
   "cell_type": "code",
   "execution_count": 49,
   "metadata": {},
   "outputs": [
    {
     "name": "stdout",
     "output_type": "stream",
     "text": [
      "CPU times: total: 0 ns\n",
      "Wall time: 2.02 ms\n"
     ]
    }
   ],
   "source": [
    "%time _ = njitted_function(test_array)"
   ]
  },
  {
   "cell_type": "markdown",
   "metadata": {},
   "source": [
    "Now we're running at a much better 1ms"
   ]
  },
  {
   "cell_type": "markdown",
   "metadata": {},
   "source": [
    "## Vectorize"
   ]
  },
  {
   "cell_type": "code",
   "execution_count": 50,
   "metadata": {},
   "outputs": [],
   "source": [
    "@vectorize\n",
    "def scalar_computation(num):\n",
    "    if num % 2 == 0:\n",
    "        return 2\n",
    "    else:\n",
    "        return 1"
   ]
  },
  {
   "cell_type": "code",
   "execution_count": 61,
   "metadata": {},
   "outputs": [
    {
     "name": "stdout",
     "output_type": "stream",
     "text": [
      "CPU times: total: 0 ns\n",
      "Wall time: 2 ms\n"
     ]
    },
    {
     "data": {
      "text/plain": [
       "array([2, 1, 2, ..., 1, 2, 1], dtype=int64)"
      ]
     },
     "execution_count": 61,
     "metadata": {},
     "output_type": "execute_result"
    }
   ],
   "source": [
    "%time scalar_computation(test_array)"
   ]
  },
  {
   "cell_type": "markdown",
   "metadata": {},
   "source": [
    "This is supposed be significantly faster than the previous function (at least the guy in the video had it faster), but it is faster anyways.\n",
    "\n",
    "Anyways, the point is that the original function had an undetermined-size list. If we re-write it using numpy it runs as fast as vectorize."
   ]
  },
  {
   "cell_type": "code",
   "execution_count": 52,
   "metadata": {},
   "outputs": [],
   "source": [
    "@njit\n",
    "def fixed_function(input_list):\n",
    "    output_list = np.zeros_like(input_list)\n",
    "    for ii, item in enumerate(input_list):\n",
    "        if item % 2 == 0:\n",
    "            output_list[ii] = 2\n",
    "        else:\n",
    "            output_list[ii] = 1\n",
    "    return output_list"
   ]
  },
  {
   "cell_type": "code",
   "execution_count": 55,
   "metadata": {},
   "outputs": [
    {
     "name": "stdout",
     "output_type": "stream",
     "text": [
      "CPU times: total: 0 ns\n",
      "Wall time: 998 µs\n"
     ]
    },
    {
     "data": {
      "text/plain": [
       "array([2, 1, 2, ..., 1, 2, 1])"
      ]
     },
     "execution_count": 55,
     "metadata": {},
     "output_type": "execute_result"
    }
   ],
   "source": [
    "%time fixed_function(test_array)"
   ]
  },
  {
   "cell_type": "markdown",
   "metadata": {},
   "source": [
    "Now it takes about the same amount of time as vectorize\n",
    "\n",
    "Whether you want to use @vectorize basically depends on how you want to write your functions - explicitly or implicitly passing arrays to them."
   ]
  },
  {
   "cell_type": "markdown",
   "metadata": {},
   "source": [
    "# Other"
   ]
  },
  {
   "cell_type": "code",
   "execution_count": 54,
   "metadata": {},
   "outputs": [
    {
     "data": {
      "text/plain": [
       "array([[-1.36311572e+57, -1.36311572e+57, -1.36311572e+57],\n",
       "       [-1.36311572e+57, -1.36311572e+57, -1.36311572e+57]])"
      ]
     },
     "execution_count": 54,
     "metadata": {},
     "output_type": "execute_result"
    }
   ],
   "source": [
    "dims = (2,3)\n",
    "\n",
    "@jit(nopython=True)\n",
    "def empty(dims):\n",
    "    return np.empty(dims, np.float64)  # np.float64 instead of np.float\n",
    "\n",
    "\n",
    "empty(dims)\n"
   ]
  }
 ],
 "metadata": {
  "kernelspec": {
   "display_name": "Python 3.10.4 ('bowels')",
   "language": "python",
   "name": "python3"
  },
  "language_info": {
   "codemirror_mode": {
    "name": "ipython",
    "version": 3
   },
   "file_extension": ".py",
   "mimetype": "text/x-python",
   "name": "python",
   "nbconvert_exporter": "python",
   "pygments_lexer": "ipython3",
   "version": "3.10.4"
  },
  "orig_nbformat": 4,
  "vscode": {
   "interpreter": {
    "hash": "1532b9a924d0c04a25717918ec68939d613fe25ea862949fde5ad1cd42522576"
   }
  }
 },
 "nbformat": 4,
 "nbformat_minor": 2
}
