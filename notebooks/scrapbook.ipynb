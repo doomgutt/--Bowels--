{
 "cells": [
  {
   "cell_type": "code",
   "execution_count": 1,
   "metadata": {},
   "outputs": [],
   "source": [
    "import numpy as np\n",
    "from numba import njit"
   ]
  },
  {
   "cell_type": "code",
   "execution_count": 2,
   "metadata": {},
   "outputs": [],
   "source": [
    "@njit(cache=True)\n",
    "def bresenham_lines(start, end, max_iter):\n",
    "    \"\"\"\n",
    "    - Normalizing Slope\n",
    "        - dxdy: calculate slopes: ends-starts\n",
    "        - scale: get furthest x/y distance for every dxdy\n",
    "            - set 0 slope entries to 1's (when two points are the same)\n",
    "        - nslope: normalized slope\n",
    "    - Calculate lines\n",
    "        - npts, dims: number of points and point dimensions\n",
    "        - max_iter: get furthest distance for any two points\n",
    "    \"\"\"\n",
    "\n",
    "    # Normalizing slope\n",
    "    dxdy = (end - start)\n",
    "    abs_dxdy = np.abs(dxdy)\n",
    "    scale = np.zeros((len(abs_dxdy), 1), dtype='i8')\n",
    "    for ii, xy in enumerate(abs_dxdy):\n",
    "        sc = max(xy)\n",
    "        scale[ii] = sc if sc != 0 else 1\n",
    "    nslope = dxdy.astype('f8') / scale\n",
    "\n",
    "    # Steps to iterate on\n",
    "    npts, dim = start.shape\n",
    "    if max_iter == -1: max_iter = np.max(scale)\n",
    "    stepseq = np.arange(1, max_iter + 1)\n",
    "    stepmat = stepseq.repeat(dim).reshape((-1, dim))\n",
    "\n",
    "    # Calculate lines\n",
    "    bline = np.zeros((len(start), *stepmat.shape), dtype='f8')\n",
    "    for ii, start_xy in enumerate(start):\n",
    "        bline[ii] = np.rint(start_xy + nslope[ii] * stepmat)\n",
    "\n",
    "    return bline\n"
   ]
  },
  {
   "cell_type": "code",
   "execution_count": 3,
   "metadata": {},
   "outputs": [],
   "source": [
    "start = np.random.randint(-200, 200, (360, 2))\n",
    "end = np.random.randint(-200, 200, (360, 2))\n",
    "max_iter = -1"
   ]
  },
  {
   "cell_type": "code",
   "execution_count": 7,
   "metadata": {},
   "outputs": [
    {
     "name": "stdout",
     "output_type": "stream",
     "text": [
      "CPU times: total: 0 ns\n",
      "Wall time: 4.51 ms\n",
      "\n"
     ]
    }
   ],
   "source": [
    "%time bresenham_lines(start, end, max_iter)\n",
    "print('')"
   ]
  }
 ],
 "metadata": {
  "kernelspec": {
   "display_name": "Python 3.10.4 ('bowels')",
   "language": "python",
   "name": "python3"
  },
  "language_info": {
   "codemirror_mode": {
    "name": "ipython",
    "version": 3
   },
   "file_extension": ".py",
   "mimetype": "text/x-python",
   "name": "python",
   "nbconvert_exporter": "python",
   "pygments_lexer": "ipython3",
   "version": "3.10.4"
  },
  "orig_nbformat": 4,
  "vscode": {
   "interpreter": {
    "hash": "1532b9a924d0c04a25717918ec68939d613fe25ea862949fde5ad1cd42522576"
   }
  }
 },
 "nbformat": 4,
 "nbformat_minor": 2
}
