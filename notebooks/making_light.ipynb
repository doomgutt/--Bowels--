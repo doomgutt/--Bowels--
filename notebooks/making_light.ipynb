{
 "cells": [
  {
   "cell_type": "markdown",
   "metadata": {},
   "source": [
    "# notebook exploring how to make light"
   ]
  },
  {
   "cell_type": "code",
   "execution_count": 174,
   "metadata": {},
   "outputs": [],
   "source": [
    "import numpy as np\n",
    "from numba import jit\n",
    "import time"
   ]
  },
  {
   "cell_type": "code",
   "execution_count": 175,
   "metadata": {},
   "outputs": [],
   "source": [
    "# point of light\n",
    "origin = [0, 0]\n",
    "\n",
    "# custom anchor coords\n",
    "anchor_coords = np.array([[10, 12], [11, 12]])\n",
    "anchor_coords2 = np.array([\n",
    "    [0, 0], \n",
    "    [1, 2], \n",
    "    [2, 4],\n",
    "    [3, 4], \n",
    "    [10, 13], \n",
    "    [10, 12], \n",
    "    [11, 12]])\n",
    "\n",
    "# random anchor coods\n",
    "rand_N = 10000\n",
    "random_coords = np.random.randint(0, 100, (rand_N, 2))"
   ]
  },
  {
   "cell_type": "markdown",
   "metadata": {},
   "source": [
    "# Functions"
   ]
  },
  {
   "cell_type": "code",
   "execution_count": 176,
   "metadata": {},
   "outputs": [],
   "source": [
    "# old\n",
    "\n",
    "def anchor_to_square(anchors):\n",
    "    \"\"\"get vertex positions for a square from anchor\"\"\"\n",
    "    template = np.array([[[0, 0], [0, 1], [1, 1], [1, 0]]])\n",
    "    square = np.repeat(template, repeats=len(anchors), axis=0)\n",
    "    for i, anchor in enumerate(anchors):\n",
    "        square[i] += anchor\n",
    "    return square\n",
    "\n",
    "\n",
    "def squares_to_edgelists(squares):\n",
    "    \"\"\"\n",
    "    using [[0, 0], [0, 1], [1, 1], [1, 0]]\n",
    "    doing it this way allows for deleting common edges\n",
    "    \"\"\"\n",
    "    edge_by_square = np.zeros((*squares.shape, 2))\n",
    "    for i, square in enumerate(squares):\n",
    "        edge_by_square[i] = np.array([\n",
    "            [square[0], square[1]],\n",
    "            [square[1], square[2]],\n",
    "            [square[3], square[2]],\n",
    "            [square[0], square[3]]])\n",
    "    return edge_by_square\n",
    "\n",
    "\n",
    "def squares_to_edgelists2(squares):\n",
    "    \"\"\"\n",
    "    using [[0, 0], [0, 1], [1, 1], [1, 0]]\n",
    "    doing it this way allows for deleting common edges\n",
    "    \"\"\"\n",
    "    edge_by_square = np.zeros((len(squares), 4, 4))\n",
    "    for i, square in enumerate(squares):\n",
    "        edge_by_square[i] = np.array([\n",
    "            [*square[0], *square[1]],\n",
    "            [*square[1], *square[2]],\n",
    "            [*square[3], *square[2]],\n",
    "            [*square[0], *square[3]]])\n",
    "    return edge_by_square\n"
   ]
  },
  {
   "cell_type": "markdown",
   "metadata": {},
   "source": [
    "### First turn anchor points to lists of edges\n",
    "\n",
    "index edges as follows, in order to be able to remove repeating edges later\n",
    "\n",
    "    ↑ ---> ↑\n",
    "    |      |\n",
    "    | ---> |"
   ]
  },
  {
   "cell_type": "code",
   "execution_count": 177,
   "metadata": {},
   "outputs": [],
   "source": [
    "def anchors_to_edgelists(anchors):\n",
    "    \"\"\" edges must be done like this to be able to remove duplicates\n",
    "    [0, 0, 0, 1] ^\n",
    "    [0, 1, 1, 1] ->\n",
    "    [1, 0, 1, 1] ^\n",
    "    [0, 0, 1, 0] ->\n",
    "    \"\"\"\n",
    "    edge_by_anchor = np.zeros((len(anchors), 4, 4))\n",
    "    for i, a in enumerate(anchors):\n",
    "        edge_by_anchor[i] = np.array([\n",
    "            [a[0],   a[1],   a[0],   a[1]+1],\n",
    "            [a[0],   a[1]+1, a[0]+1, a[1]+1],\n",
    "            [a[0]+1, a[1],   a[0]+1, a[1]+1],\n",
    "            [a[0],   a[1],   a[0]+1, a[1]]])\n",
    "    return edge_by_anchor"
   ]
  },
  {
   "cell_type": "code",
   "execution_count": 178,
   "metadata": {},
   "outputs": [
    {
     "name": "stdout",
     "output_type": "stream",
     "text": [
      "using format: [x1,y1, x2,y2], e.g.\n",
      "[[[2. 4. 2. 5.]\n",
      "  [2. 5. 3. 5.]\n",
      "  [3. 4. 3. 5.]\n",
      "  [2. 4. 3. 4.]]\n",
      "\n",
      " [[3. 4. 3. 5.]\n",
      "  [3. 5. 4. 5.]\n",
      "  [4. 4. 4. 5.]\n",
      "  [3. 4. 4. 4.]]]\n"
     ]
    }
   ],
   "source": [
    "# run\n",
    "edges_by_anchor = anchors_to_edgelists(anchor_coords2)\n",
    "print(\"using format: [x1,y1, x2,y2], e.g.\")\n",
    "print(edges_by_anchor[2:4])"
   ]
  },
  {
   "cell_type": "markdown",
   "metadata": {},
   "source": [
    "### Then determine which edges are hidden from the light"
   ]
  },
  {
   "cell_type": "markdown",
   "metadata": {},
   "source": [
    "#### Calculate distances for all the edges"
   ]
  },
  {
   "cell_type": "code",
   "execution_count": 179,
   "metadata": {},
   "outputs": [],
   "source": [
    "def distance(point1, point2):\n",
    "    return np.hypot((point2[1]-point1[1]), (point2[0]-point1[0]))\n",
    "\n",
    "def edge_distances(origin, edges):\n",
    "    edge_dists = np.zeros((len(edges), 2))\n",
    "    for i, edge in enumerate(edges):\n",
    "        edge_dists[i] = [distance(origin, edge[:2]),\n",
    "                         distance(origin, edge[2:])]\n",
    "    return edge_dists"
   ]
  },
  {
   "cell_type": "code",
   "execution_count": 180,
   "metadata": {},
   "outputs": [
    {
     "name": "stdout",
     "output_type": "stream",
     "text": [
      "[[0.         1.        ]\n",
      " [1.         1.41421356]\n",
      " [1.         1.41421356]\n",
      " [0.         1.        ]]\n"
     ]
    }
   ],
   "source": [
    "# run\n",
    "edge_dists = edge_distances(origin, edges_by_anchor[0])\n",
    "print(edge_dists)"
   ]
  },
  {
   "cell_type": "markdown",
   "metadata": {},
   "source": [
    "#### Remove edges where their max is less than another one's min"
   ]
  },
  {
   "cell_type": "code",
   "execution_count": 181,
   "metadata": {},
   "outputs": [],
   "source": [
    "def remove_shadow_edges(origin, edges):\n",
    "    edge_dists = edge_distances(origin, edges)\n",
    "    remove_idx = [True for x in edge_dists]\n",
    "    maxs = edge_dists.max(1)\n",
    "    mins = edge_dists.min(1)\n",
    "    for vmin in mins:\n",
    "        for i, vmax in enumerate(maxs):\n",
    "            if vmin >= vmax:\n",
    "                remove_idx[i] = False\n",
    "    # # debug\n",
    "    # print(remove_idx)\n",
    "    # print(edge_dists[remove_idx])\n",
    "    return edges[remove_idx]"
   ]
  },
  {
   "cell_type": "code",
   "execution_count": 182,
   "metadata": {},
   "outputs": [
    {
     "name": "stdout",
     "output_type": "stream",
     "text": [
      "[[0. 1. 1. 1.]\n",
      " [1. 0. 1. 1.]]\n"
     ]
    }
   ],
   "source": [
    "# run\n",
    "light_edges = remove_shadow_edges(origin, edges_by_anchor[0])\n",
    "print(light_edges)"
   ]
  },
  {
   "cell_type": "markdown",
   "metadata": {},
   "source": [
    "### Accounting for repeats"
   ]
  },
  {
   "cell_type": "code",
   "execution_count": 183,
   "metadata": {},
   "outputs": [
    {
     "name": "stdout",
     "output_type": "stream",
     "text": [
      "[[ 0.  1.  1.  1.]\n",
      " [ 1.  0.  1.  1.]\n",
      " [ 1.  3.  2.  3.]\n",
      " [ 2.  2.  2.  3.]\n",
      " [ 2.  5.  3.  5.]\n",
      " [ 3.  4.  3.  5.]\n",
      " [ 3.  5.  4.  5.]\n",
      " [ 4.  4.  4.  5.]\n",
      " [10. 14. 11. 14.]\n",
      " [11. 13. 11. 14.]\n",
      " [10. 13. 11. 13.]\n",
      " [11. 12. 11. 13.]\n",
      " [11. 13. 12. 13.]\n",
      " [12. 12. 12. 13.]]\n",
      "(14, 4)\n"
     ]
    }
   ],
   "source": [
    "# print(edges_by_anchor[:2])\n",
    "all_light_edges = []\n",
    "for sq in edges_by_anchor:\n",
    "    light_edges = remove_shadow_edges(origin, sq)\n",
    "    for edge in light_edges:\n",
    "        all_light_edges.append(edge)\n",
    "all_light_edges = np.array(all_light_edges)\n",
    "print(all_light_edges)\n",
    "print(all_light_edges.shape)\n",
    "    "
   ]
  },
  {
   "cell_type": "code",
   "execution_count": 184,
   "metadata": {},
   "outputs": [
    {
     "name": "stdout",
     "output_type": "stream",
     "text": [
      "[[ 0.  1.  1.  1.]\n",
      " [ 1.  0.  1.  1.]\n",
      " [ 1.  3.  2.  3.]\n",
      " [ 2.  2.  2.  3.]\n",
      " [ 2.  5.  3.  5.]\n",
      " [ 3.  4.  3.  5.]\n",
      " [ 3.  5.  4.  5.]\n",
      " [ 4.  4.  4.  5.]\n",
      " [10. 13. 11. 13.]\n",
      " [10. 14. 11. 14.]\n",
      " [11. 12. 11. 13.]\n",
      " [11. 13. 11. 14.]\n",
      " [11. 13. 12. 13.]\n",
      " [12. 12. 12. 13.]]\n",
      "(14, 4)\n",
      "[[ 0.  1.]\n",
      " [ 1.  1.]\n",
      " [ 1.  0.]\n",
      " [ 1.  1.]\n",
      " [ 1.  3.]\n",
      " [ 2.  3.]\n",
      " [ 2.  2.]\n",
      " [ 2.  3.]\n",
      " [ 2.  5.]\n",
      " [ 3.  5.]\n",
      " [ 3.  4.]\n",
      " [ 3.  5.]\n",
      " [ 3.  5.]\n",
      " [ 4.  5.]\n",
      " [ 4.  4.]\n",
      " [ 4.  5.]\n",
      " [10. 13.]\n",
      " [11. 13.]\n",
      " [10. 14.]\n",
      " [11. 14.]\n",
      " [11. 12.]\n",
      " [11. 13.]\n",
      " [11. 13.]\n",
      " [11. 14.]\n",
      " [11. 13.]\n",
      " [12. 13.]\n",
      " [12. 12.]\n",
      " [12. 13.]]\n"
     ]
    }
   ],
   "source": [
    "def rm_inside_edges(all_edges):\n",
    "    uniq, counts = np.unique(all_edges, return_counts=True, axis=0)\n",
    "    repeat_idx = np.nonzero(counts-1)[0]\n",
    "    external_only = np.delete(uniq, repeat_idx, axis=0)\n",
    "    return external_only\n",
    "\n",
    "all_external_light_edges = rm_inside_edges(all_light_edges)\n",
    "print(all_external_light_edges)\n",
    "print(all_external_light_edges.shape)\n",
    "\n",
    "# change edges into verteces\n",
    "print(all_external_light_edges.reshape((len(all_external_light_edges)*2, 2)))"
   ]
  },
  {
   "cell_type": "markdown",
   "metadata": {},
   "source": [
    "## put everything together"
   ]
  },
  {
   "cell_type": "code",
   "execution_count": 185,
   "metadata": {},
   "outputs": [],
   "source": [
    "def get_light_verteces(origin, obj_anchors):\n",
    "    edges_by_anchor = anchors_to_edgelists(obj_anchors)\n",
    "    all_light_edges = []\n",
    "    for sq in edges_by_anchor:\n",
    "        light_edges = remove_shadow_edges(origin, sq)\n",
    "        ext_light_edges = rm_inside_edges(light_edges)\n",
    "        for edge in ext_light_edges:\n",
    "            all_light_edges.append(edge)\n",
    "    all_light_edges = np.array(all_light_edges)\n",
    "    print(all_light_edges)\n",
    "    return all_light_edges.reshape((len(all_light_edges)*2, 2))"
   ]
  },
  {
   "cell_type": "code",
   "execution_count": 186,
   "metadata": {},
   "outputs": [
    {
     "name": "stdout",
     "output_type": "stream",
     "text": [
      "[[ 0.  1.  1.  1.]\n",
      " [ 1.  0.  1.  1.]\n",
      " [ 1.  3.  2.  3.]\n",
      " [ 2.  2.  2.  3.]\n",
      " [ 2.  5.  3.  5.]\n",
      " [ 3.  4.  3.  5.]\n",
      " [ 3.  5.  4.  5.]\n",
      " [ 4.  4.  4.  5.]\n",
      " [10. 14. 11. 14.]\n",
      " [11. 13. 11. 14.]\n",
      " [10. 13. 11. 13.]\n",
      " [11. 12. 11. 13.]\n",
      " [11. 13. 12. 13.]\n",
      " [12. 12. 12. 13.]]\n",
      "[[ 0.  1.]\n",
      " [ 1.  1.]\n",
      " [ 1.  0.]\n",
      " [ 1.  1.]\n",
      " [ 1.  3.]\n",
      " [ 2.  3.]\n",
      " [ 2.  2.]\n",
      " [ 2.  3.]\n",
      " [ 2.  5.]\n",
      " [ 3.  5.]\n",
      " [ 3.  4.]\n",
      " [ 3.  5.]\n",
      " [ 3.  5.]\n",
      " [ 4.  5.]\n",
      " [ 4.  4.]\n",
      " [ 4.  5.]\n",
      " [10. 14.]\n",
      " [11. 14.]\n",
      " [11. 13.]\n",
      " [11. 14.]\n",
      " [10. 13.]\n",
      " [11. 13.]\n",
      " [11. 12.]\n",
      " [11. 13.]\n",
      " [11. 13.]\n",
      " [12. 13.]\n",
      " [12. 12.]\n",
      " [12. 13.]]\n"
     ]
    }
   ],
   "source": [
    "reshaped = get_light_verteces(origin, anchor_coords2)\n",
    "print(reshaped)\n"
   ]
  },
  {
   "cell_type": "markdown",
   "metadata": {},
   "source": [
    "# time tests"
   ]
  },
  {
   "cell_type": "code",
   "execution_count": 187,
   "metadata": {},
   "outputs": [
    {
     "name": "stdout",
     "output_type": "stream",
     "text": [
      "0.0\n"
     ]
    }
   ],
   "source": [
    "# run\n",
    "t0 = time.time()\n",
    "t1 = time.time()\n",
    "print(t1-t0)"
   ]
  },
  {
   "cell_type": "markdown",
   "metadata": {},
   "source": [
    "# Python Lessons"
   ]
  },
  {
   "cell_type": "code",
   "execution_count": 188,
   "metadata": {},
   "outputs": [
    {
     "name": "stdout",
     "output_type": "stream",
     "text": [
      "[2 4]\n"
     ]
    }
   ],
   "source": [
    "# boolean arrays as numpy indices\n",
    "a = np.array([False, True, False, True])\n",
    "b = np.array([1,2,3,4])\n",
    "print(b[a])"
   ]
  },
  {
   "cell_type": "code",
   "execution_count": 189,
   "metadata": {},
   "outputs": [
    {
     "name": "stdout",
     "output_type": "stream",
     "text": [
      "[[2 2 3 3]\n",
      " [2 2 3 3]\n",
      " [5 5 6 6]\n",
      " [5 5 6 6]\n",
      " [7 7 9 9]\n",
      " [7 7 9 9]]\n"
     ]
    }
   ],
   "source": [
    "# Repeats with Numpy\n",
    "a = np.array([[2, 3], [5, 6], [7, 9]])\n",
    "r_a = np.repeat(a, repeats=2, axis=0)\n",
    "r_a = np.repeat(r_a, repeats=2, axis=1)\n",
    "print(r_a)"
   ]
  },
  {
   "cell_type": "code",
   "execution_count": 191,
   "metadata": {},
   "outputs": [
    {
     "name": "stdout",
     "output_type": "stream",
     "text": [
      "[ 0  2 64]\n",
      "[  1   5 100]\n"
     ]
    }
   ],
   "source": [
    "# numpy min of array\n",
    "a = np.array([[0,1], [5,2], [100, 64]])\n",
    "print(a.min(1))\n",
    "print(a.max(1))"
   ]
  },
  {
   "cell_type": "markdown",
   "metadata": {},
   "source": [
    "# Experimentation"
   ]
  },
  {
   "cell_type": "code",
   "execution_count": null,
   "metadata": {},
   "outputs": [
    {
     "name": "stdout",
     "output_type": "stream",
     "text": [
      "[[[0 0]\n",
      "  [0 0]]\n",
      "\n",
      " [[1 2]\n",
      "  [2 4]]\n",
      "\n",
      " [[2 2]\n",
      "  [2 2]]] \n",
      "--------\n",
      "[0 1] \n",
      "--------\n",
      "[[[2 2]\n",
      "  [2 2]]]\n"
     ]
    }
   ],
   "source": [
    "# killing repeats\n",
    "eee = np.array([\n",
    "    [[0, 0], [0, 0]],\n",
    "    [[0, 0], [0, 0]],\n",
    "    [[1, 2], [2, 4]],\n",
    "    [[1, 2], [2, 4]],\n",
    "    [[2, 2], [2, 2]]])\n",
    "b, cnts = np.unique(eee, return_counts=True, axis=0)\n",
    "remove_idx = np.nonzero(cnts-1)[0]\n",
    "cleaned = np.delete(b, remove_idx, axis=0)\n",
    "print(b, \"\\n--------\")\n",
    "print(remove_idx, \"\\n--------\")\n",
    "print(cleaned)\n"
   ]
  },
  {
   "cell_type": "code",
   "execution_count": 206,
   "metadata": {},
   "outputs": [
    {
     "name": "stdout",
     "output_type": "stream",
     "text": [
      "[1 2] [1 1]\n",
      "2.0 1.0\n",
      "52.098904879217365\n",
      "48.21273601220948\n"
     ]
    }
   ],
   "source": [
    "orgn = np.array([10, 10])\n",
    "\n",
    "edge_array = np.array([\n",
    "    [11, 12, 11, 11],\n",
    "    [11, 12, 11, 11],\n",
    "    [11, 12, 11, 11],\n",
    "    [11, 12, 11, 11],\n",
    "])\n",
    "\n",
    "def circle_practice(edge_array):\n",
    "    for a in edge_array:\n",
    "        print(\"----\")\n",
    "        a1 = a[:2]\n",
    "        a2 = a[2:]\n",
    "\n",
    "        step1 = a1 - orgn\n",
    "        step2 = a2 - orgn\n",
    "        print(step1, step2)\n",
    "\n",
    "        slope1 = step1[1]/step1[0]\n",
    "        slope2 = step2[1]/step2[0]\n",
    "        print(slope1, slope2)\n",
    "\n",
    "        rad1 = np.degrees(np.sin(slope1))\n",
    "        rad2 = np.degrees(np.sin(slope2))\n",
    "        print(rad1)\n",
    "        print(rad2)"
   ]
  },
  {
   "cell_type": "code",
   "execution_count": 232,
   "metadata": {},
   "outputs": [
    {
     "name": "stdout",
     "output_type": "stream",
     "text": [
      "[ 0.          0.78539816  1.57079633  2.35619449  3.14159265 -2.35619449\n",
      " -1.57079633 -0.78539816]\n",
      "[   0.   45.   90.  135.  180. -135.  -90.  -45.]\n",
      "[  0.  45.  90. 135. 180. 225. 270. 315.]\n"
     ]
    }
   ],
   "source": [
    "orgn = np.array([10, 10])\n",
    "point_array = np.array([\n",
    "    [10, 11],\n",
    "    [11, 11],\n",
    "    [11, 10],\n",
    "    [11,  9],\n",
    "    [10,  9],\n",
    "    [9,   9],\n",
    "    [9,  10],\n",
    "    [9,  11]])\n",
    "\n",
    "pa = point_array.T\n",
    "\n",
    "rads = np.arctan2(pa[0]-orgn[0], pa[1]-orgn[1])\n",
    "degs = np.degrees(rads)\n",
    "full_degs = degs + (degs<0)*360\n",
    "print(rads)\n",
    "print(degs)\n",
    "print(full_degs)\n",
    "\n",
    "# def circle_practice(origin, point_array):\n",
    "#     for a in point_array:\n",
    "#         step = a - origin\n",
    "#         # print(step[1])\n",
    "#         rads = np.arctan(step[0]/step[1])\n",
    "#         degs = np.degrees(rads)\n",
    "#         if step[1] < 0:\n",
    "#             degs += 180\n",
    "#         if step[1] == 0:\n",
    "#             print(f\"div by 0\")\n",
    "#         print(step, degs, rads, sep=' | ')\n",
    "\n",
    "# circle_practice(orgn, point_array)"
   ]
  },
  {
   "cell_type": "code",
   "execution_count": 248,
   "metadata": {},
   "outputs": [
    {
     "ename": "IndexError",
     "evalue": "invalid index to scalar variable.",
     "output_type": "error",
     "traceback": [
      "\u001b[1;31m---------------------------------------------------------------------------\u001b[0m",
      "\u001b[1;31mIndexError\u001b[0m                                Traceback (most recent call last)",
      "Cell \u001b[1;32mIn [248], line 13\u001b[0m\n\u001b[0;32m     11\u001b[0m upper \u001b[39m=\u001b[39m \u001b[39mTrue\u001b[39;00m\n\u001b[0;32m     12\u001b[0m \u001b[39mfor\u001b[39;00m seg \u001b[39min\u001b[39;00m segments:\n\u001b[1;32m---> 13\u001b[0m     \u001b[39mif\u001b[39;00m seg[\u001b[39m0\u001b[39m] \u001b[39m<\u001b[39m\u001b[39m=\u001b[39m entry[\u001b[39m0\u001b[39m] \u001b[39m<\u001b[39m\u001b[39m=\u001b[39m seg[\u001b[39m1\u001b[39m]:\n\u001b[0;32m     14\u001b[0m         lower \u001b[39m=\u001b[39m \u001b[39mFalse\u001b[39;00m\n\u001b[0;32m     15\u001b[0m     \u001b[39mif\u001b[39;00m seg[\u001b[39m0\u001b[39m] \u001b[39m<\u001b[39m\u001b[39m=\u001b[39m entry[\u001b[39m1\u001b[39m] \u001b[39m<\u001b[39m\u001b[39m=\u001b[39m seg[\u001b[39m1\u001b[39m]:\n",
      "\u001b[1;31mIndexError\u001b[0m: invalid index to scalar variable."
     ]
    }
   ],
   "source": [
    "segments = []\n",
    "closest_edges = np.array([\n",
    "    [0,   90 ],\n",
    "    [45,  135],\n",
    "    [30,  60 ],\n",
    "    [0,   10 ],\n",
    "    [355, 360]])\n",
    "\n",
    "for i, entry in closest_edges:\n",
    "    lower = True\n",
    "    upper = True\n",
    "    for seg in segments:\n",
    "        if seg[0] <= entry[0] <= seg[1]:\n",
    "            lower = False\n",
    "        if seg[0] <= entry[1] <= seg[1]:\n",
    "            upper = False\n",
    "    if lower or upper:\n",
    "        segments.append(entry)\n",
    "\n",
    "\n",
    "print(np.array(segments))"
   ]
  },
  {
   "cell_type": "code",
   "execution_count": 263,
   "metadata": {},
   "outputs": [
    {
     "name": "stdout",
     "output_type": "stream",
     "text": [
      "[[  0  90]\n",
      " [ 45 135]\n",
      " [ 30  60]\n",
      " [  0  10]\n",
      " [ 20  30]\n",
      " [355 360]]\n"
     ]
    }
   ],
   "source": [
    "closest_edges = np.array([\n",
    "    [[0,   90],\n",
    "    [45,  135]],\n",
    "    [[30,  60],\n",
    "    [0,   10]],\n",
    "    [[20, 30],\n",
    "    [355, 360]]])\n",
    "a = np.concatenate(closest_edges)\n",
    "print(a)\n"
   ]
  },
  {
   "cell_type": "code",
   "execution_count": 22,
   "metadata": {},
   "outputs": [
    {
     "ename": "ValueError",
     "evalue": "incompatible dimensions for cross product\n(dimension must be 2 or 3)",
     "output_type": "error",
     "traceback": [
      "\u001b[0;31m---------------------------------------------------------------------------\u001b[0m",
      "\u001b[0;31mValueError\u001b[0m                                Traceback (most recent call last)",
      "Cell \u001b[0;32mIn [22], line 4\u001b[0m\n\u001b[1;32m      2\u001b[0m line \u001b[38;5;241m=\u001b[39m np\u001b[38;5;241m.\u001b[39marray([[\u001b[38;5;241m1\u001b[39m,\u001b[38;5;241m1\u001b[39m,\u001b[38;5;241m1\u001b[39m,\u001b[38;5;241m1\u001b[39m,\u001b[38;5;241m1\u001b[39m,\u001b[38;5;241m1\u001b[39m], [\u001b[38;5;241m1\u001b[39m,\u001b[38;5;241m1\u001b[39m,\u001b[38;5;241m1\u001b[39m,\u001b[38;5;241m1\u001b[39m,\u001b[38;5;241m1\u001b[39m,\u001b[38;5;241m1\u001b[39m]])\n\u001b[1;32m      3\u001b[0m rads \u001b[38;5;241m=\u001b[39m np\u001b[38;5;241m.\u001b[39marray([[\u001b[38;5;241m1\u001b[39m, \u001b[38;5;241m3\u001b[39m, \u001b[38;5;241m5\u001b[39m], [\u001b[38;5;241m0\u001b[39m, \u001b[38;5;241m2\u001b[39m, \u001b[38;5;241m4\u001b[39m]])\n\u001b[0;32m----> 4\u001b[0m \u001b[38;5;28mprint\u001b[39m(\u001b[43mnp\u001b[49m\u001b[38;5;241;43m.\u001b[39;49m\u001b[43mcross\u001b[49m\u001b[43m(\u001b[49m\u001b[43mrads\u001b[49m\u001b[43m,\u001b[49m\u001b[43m \u001b[49m\u001b[43mline\u001b[49m\u001b[43m)\u001b[49m)\n",
      "File \u001b[0;32m<__array_function__ internals>:180\u001b[0m, in \u001b[0;36mcross\u001b[0;34m(*args, **kwargs)\u001b[0m\n",
      "File \u001b[0;32m~/anaconda3/envs/bowels/lib/python3.10/site-packages/numpy/core/numeric.py:1613\u001b[0m, in \u001b[0;36mcross\u001b[0;34m(a, b, axisa, axisb, axisc, axis)\u001b[0m\n\u001b[1;32m   1610\u001b[0m msg \u001b[39m=\u001b[39m (\u001b[39m\"\u001b[39m\u001b[39mincompatible dimensions for cross product\u001b[39m\u001b[39m\\n\u001b[39;00m\u001b[39m\"\u001b[39m\n\u001b[1;32m   1611\u001b[0m        \u001b[39m\"\u001b[39m\u001b[39m(dimension must be 2 or 3)\u001b[39m\u001b[39m\"\u001b[39m)\n\u001b[1;32m   1612\u001b[0m \u001b[39mif\u001b[39;00m a\u001b[39m.\u001b[39mshape[\u001b[39m-\u001b[39m\u001b[39m1\u001b[39m] \u001b[39mnot\u001b[39;00m \u001b[39min\u001b[39;00m (\u001b[39m2\u001b[39m, \u001b[39m3\u001b[39m) \u001b[39mor\u001b[39;00m b\u001b[39m.\u001b[39mshape[\u001b[39m-\u001b[39m\u001b[39m1\u001b[39m] \u001b[39mnot\u001b[39;00m \u001b[39min\u001b[39;00m (\u001b[39m2\u001b[39m, \u001b[39m3\u001b[39m):\n\u001b[0;32m-> 1613\u001b[0m     \u001b[39mraise\u001b[39;00m \u001b[39mValueError\u001b[39;00m(msg)\n\u001b[1;32m   1615\u001b[0m \u001b[39m# Create the output array\u001b[39;00m\n\u001b[1;32m   1616\u001b[0m shape \u001b[39m=\u001b[39m broadcast(a[\u001b[39m.\u001b[39m\u001b[39m.\u001b[39m\u001b[39m.\u001b[39m, \u001b[39m0\u001b[39m], b[\u001b[39m.\u001b[39m\u001b[39m.\u001b[39m\u001b[39m.\u001b[39m, \u001b[39m0\u001b[39m])\u001b[39m.\u001b[39mshape\n",
      "\u001b[0;31mValueError\u001b[0m: incompatible dimensions for cross product\n(dimension must be 2 or 3)"
     ]
    }
   ],
   "source": [
    "import numpy as np\n",
    "line = np.array([[1,1,1,1,1,1], [1,1,1,1,1,1]])\n",
    "rads = np.array([[1, 3, 5], [0, 2, 4]])\n",
    "print(np.cross(rads, line))"
   ]
  }
 ],
 "metadata": {
  "kernelspec": {
   "display_name": "Python 3.10.4 ('bowels')",
   "language": "python",
   "name": "python3"
  },
  "language_info": {
   "codemirror_mode": {
    "name": "ipython",
    "version": 3
   },
   "file_extension": ".py",
   "mimetype": "text/x-python",
   "name": "python",
   "nbconvert_exporter": "python",
   "pygments_lexer": "ipython3",
   "version": "3.10.4"
  },
  "orig_nbformat": 4,
  "vscode": {
   "interpreter": {
    "hash": "2185d0c2106b3f6eaef9258165b5b206754438e9bbff69df8e74c6825a41d90b"
   }
  }
 },
 "nbformat": 4,
 "nbformat_minor": 2
}
