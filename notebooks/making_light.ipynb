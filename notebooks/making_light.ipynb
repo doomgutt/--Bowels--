{
 "cells": [
  {
   "cell_type": "markdown",
   "metadata": {},
   "source": [
    "# notebook exploring how to make light"
   ]
  },
  {
   "cell_type": "code",
   "execution_count": 174,
   "metadata": {},
   "outputs": [],
   "source": [
    "import numpy as np\n",
    "from numba import jit\n",
    "import time"
   ]
  },
  {
   "cell_type": "code",
   "execution_count": 175,
   "metadata": {},
   "outputs": [],
   "source": [
    "# point of light\n",
    "origin = [0, 0]\n",
    "\n",
    "# custom anchor coords\n",
    "anchor_coords = np.array([[10, 12], [11, 12]])\n",
    "anchor_coords2 = np.array([\n",
    "    [0, 0], \n",
    "    [1, 2], \n",
    "    [2, 4],\n",
    "    [3, 4], \n",
    "    [10, 13], \n",
    "    [10, 12], \n",
    "    [11, 12]])\n",
    "\n",
    "# random anchor coods\n",
    "rand_N = 10000\n",
    "random_coords = np.random.randint(0, 100, (rand_N, 2))"
   ]
  },
  {
   "cell_type": "markdown",
   "metadata": {},
   "source": [
    "# Functions"
   ]
  },
  {
   "cell_type": "code",
   "execution_count": 176,
   "metadata": {},
   "outputs": [],
   "source": [
    "# old\n",
    "\n",
    "def anchor_to_square(anchors):\n",
    "    \"\"\"get vertex positions for a square from anchor\"\"\"\n",
    "    template = np.array([[[0, 0], [0, 1], [1, 1], [1, 0]]])\n",
    "    square = np.repeat(template, repeats=len(anchors), axis=0)\n",
    "    for i, anchor in enumerate(anchors):\n",
    "        square[i] += anchor\n",
    "    return square\n",
    "\n",
    "\n",
    "def squares_to_edgelists(squares):\n",
    "    \"\"\"\n",
    "    using [[0, 0], [0, 1], [1, 1], [1, 0]]\n",
    "    doing it this way allows for deleting common edges\n",
    "    \"\"\"\n",
    "    edge_by_square = np.zeros((*squares.shape, 2))\n",
    "    for i, square in enumerate(squares):\n",
    "        edge_by_square[i] = np.array([\n",
    "            [square[0], square[1]],\n",
    "            [square[1], square[2]],\n",
    "            [square[3], square[2]],\n",
    "            [square[0], square[3]]])\n",
    "    return edge_by_square\n",
    "\n",
    "\n",
    "def squares_to_edgelists2(squares):\n",
    "    \"\"\"\n",
    "    using [[0, 0], [0, 1], [1, 1], [1, 0]]\n",
    "    doing it this way allows for deleting common edges\n",
    "    \"\"\"\n",
    "    edge_by_square = np.zeros((len(squares), 4, 4))\n",
    "    for i, square in enumerate(squares):\n",
    "        edge_by_square[i] = np.array([\n",
    "            [*square[0], *square[1]],\n",
    "            [*square[1], *square[2]],\n",
    "            [*square[3], *square[2]],\n",
    "            [*square[0], *square[3]]])\n",
    "    return edge_by_square\n"
   ]
  },
  {
   "cell_type": "markdown",
   "metadata": {},
   "source": [
    "### First turn anchor points to lists of edges\n",
    "\n",
    "index edges as follows, in order to be able to remove repeating edges later\n",
    "\n",
    "    ↑ ---> ↑\n",
    "    |      |\n",
    "    | ---> |"
   ]
  },
  {
   "cell_type": "code",
   "execution_count": 177,
   "metadata": {},
   "outputs": [],
   "source": [
    "def anchors_to_edgelists(anchors):\n",
    "    \"\"\" edges must be done like this to be able to remove duplicates\n",
    "    [0, 0, 0, 1] ^\n",
    "    [0, 1, 1, 1] ->\n",
    "    [1, 0, 1, 1] ^\n",
    "    [0, 0, 1, 0] ->\n",
    "    \"\"\"\n",
    "    edge_by_anchor = np.zeros((len(anchors), 4, 4))\n",
    "    for i, a in enumerate(anchors):\n",
    "        edge_by_anchor[i] = np.array([\n",
    "            [a[0],   a[1],   a[0],   a[1]+1],\n",
    "            [a[0],   a[1]+1, a[0]+1, a[1]+1],\n",
    "            [a[0]+1, a[1],   a[0]+1, a[1]+1],\n",
    "            [a[0],   a[1],   a[0]+1, a[1]]])\n",
    "    return edge_by_anchor"
   ]
  },
  {
   "cell_type": "code",
   "execution_count": 178,
   "metadata": {},
   "outputs": [
    {
     "name": "stdout",
     "output_type": "stream",
     "text": [
      "using format: [x1,y1, x2,y2], e.g.\n",
      "[[[2. 4. 2. 5.]\n",
      "  [2. 5. 3. 5.]\n",
      "  [3. 4. 3. 5.]\n",
      "  [2. 4. 3. 4.]]\n",
      "\n",
      " [[3. 4. 3. 5.]\n",
      "  [3. 5. 4. 5.]\n",
      "  [4. 4. 4. 5.]\n",
      "  [3. 4. 4. 4.]]]\n"
     ]
    }
   ],
   "source": [
    "# run\n",
    "edges_by_anchor = anchors_to_edgelists(anchor_coords2)\n",
    "print(\"using format: [x1,y1, x2,y2], e.g.\")\n",
    "print(edges_by_anchor[2:4])"
   ]
  },
  {
   "cell_type": "markdown",
   "metadata": {},
   "source": [
    "### Then determine which edges are hidden from the light"
   ]
  },
  {
   "cell_type": "markdown",
   "metadata": {},
   "source": [
    "#### Calculate distances for all the edges"
   ]
  },
  {
   "cell_type": "code",
   "execution_count": 179,
   "metadata": {},
   "outputs": [],
   "source": [
    "def distance(point1, point2):\n",
    "    return np.hypot((point2[1]-point1[1]), (point2[0]-point1[0]))\n",
    "\n",
    "def edge_distances(origin, edges):\n",
    "    edge_dists = np.zeros((len(edges), 2))\n",
    "    for i, edge in enumerate(edges):\n",
    "        edge_dists[i] = [distance(origin, edge[:2]),\n",
    "                         distance(origin, edge[2:])]\n",
    "    return edge_dists"
   ]
  },
  {
   "cell_type": "code",
   "execution_count": 180,
   "metadata": {},
   "outputs": [
    {
     "name": "stdout",
     "output_type": "stream",
     "text": [
      "[[0.         1.        ]\n",
      " [1.         1.41421356]\n",
      " [1.         1.41421356]\n",
      " [0.         1.        ]]\n"
     ]
    }
   ],
   "source": [
    "# run\n",
    "edge_dists = edge_distances(origin, edges_by_anchor[0])\n",
    "print(edge_dists)"
   ]
  },
  {
   "cell_type": "markdown",
   "metadata": {},
   "source": [
    "#### Remove edges where their max is less than another one's min"
   ]
  },
  {
   "cell_type": "code",
   "execution_count": 181,
   "metadata": {},
   "outputs": [],
   "source": [
    "def remove_shadow_edges(origin, edges):\n",
    "    edge_dists = edge_distances(origin, edges)\n",
    "    remove_idx = [True for x in edge_dists]\n",
    "    maxs = edge_dists.max(1)\n",
    "    mins = edge_dists.min(1)\n",
    "    for vmin in mins:\n",
    "        for i, vmax in enumerate(maxs):\n",
    "            if vmin >= vmax:\n",
    "                remove_idx[i] = False\n",
    "    # # debug\n",
    "    # print(remove_idx)\n",
    "    # print(edge_dists[remove_idx])\n",
    "    return edges[remove_idx]"
   ]
  },
  {
   "cell_type": "code",
   "execution_count": 182,
   "metadata": {},
   "outputs": [
    {
     "name": "stdout",
     "output_type": "stream",
     "text": [
      "[[0. 1. 1. 1.]\n",
      " [1. 0. 1. 1.]]\n"
     ]
    }
   ],
   "source": [
    "# run\n",
    "light_edges = remove_shadow_edges(origin, edges_by_anchor[0])\n",
    "print(light_edges)"
   ]
  },
  {
   "cell_type": "markdown",
   "metadata": {},
   "source": [
    "### Accounting for repeats"
   ]
  },
  {
   "cell_type": "code",
   "execution_count": 183,
   "metadata": {},
   "outputs": [
    {
     "name": "stdout",
     "output_type": "stream",
     "text": [
      "[[ 0.  1.  1.  1.]\n",
      " [ 1.  0.  1.  1.]\n",
      " [ 1.  3.  2.  3.]\n",
      " [ 2.  2.  2.  3.]\n",
      " [ 2.  5.  3.  5.]\n",
      " [ 3.  4.  3.  5.]\n",
      " [ 3.  5.  4.  5.]\n",
      " [ 4.  4.  4.  5.]\n",
      " [10. 14. 11. 14.]\n",
      " [11. 13. 11. 14.]\n",
      " [10. 13. 11. 13.]\n",
      " [11. 12. 11. 13.]\n",
      " [11. 13. 12. 13.]\n",
      " [12. 12. 12. 13.]]\n",
      "(14, 4)\n"
     ]
    }
   ],
   "source": [
    "# print(edges_by_anchor[:2])\n",
    "all_light_edges = []\n",
    "for sq in edges_by_anchor:\n",
    "    light_edges = remove_shadow_edges(origin, sq)\n",
    "    for edge in light_edges:\n",
    "        all_light_edges.append(edge)\n",
    "all_light_edges = np.array(all_light_edges)\n",
    "print(all_light_edges)\n",
    "print(all_light_edges.shape)\n",
    "    "
   ]
  },
  {
   "cell_type": "code",
   "execution_count": 184,
   "metadata": {},
   "outputs": [
    {
     "name": "stdout",
     "output_type": "stream",
     "text": [
      "[[ 0.  1.  1.  1.]\n",
      " [ 1.  0.  1.  1.]\n",
      " [ 1.  3.  2.  3.]\n",
      " [ 2.  2.  2.  3.]\n",
      " [ 2.  5.  3.  5.]\n",
      " [ 3.  4.  3.  5.]\n",
      " [ 3.  5.  4.  5.]\n",
      " [ 4.  4.  4.  5.]\n",
      " [10. 13. 11. 13.]\n",
      " [10. 14. 11. 14.]\n",
      " [11. 12. 11. 13.]\n",
      " [11. 13. 11. 14.]\n",
      " [11. 13. 12. 13.]\n",
      " [12. 12. 12. 13.]]\n",
      "(14, 4)\n",
      "[[ 0.  1.]\n",
      " [ 1.  1.]\n",
      " [ 1.  0.]\n",
      " [ 1.  1.]\n",
      " [ 1.  3.]\n",
      " [ 2.  3.]\n",
      " [ 2.  2.]\n",
      " [ 2.  3.]\n",
      " [ 2.  5.]\n",
      " [ 3.  5.]\n",
      " [ 3.  4.]\n",
      " [ 3.  5.]\n",
      " [ 3.  5.]\n",
      " [ 4.  5.]\n",
      " [ 4.  4.]\n",
      " [ 4.  5.]\n",
      " [10. 13.]\n",
      " [11. 13.]\n",
      " [10. 14.]\n",
      " [11. 14.]\n",
      " [11. 12.]\n",
      " [11. 13.]\n",
      " [11. 13.]\n",
      " [11. 14.]\n",
      " [11. 13.]\n",
      " [12. 13.]\n",
      " [12. 12.]\n",
      " [12. 13.]]\n"
     ]
    }
   ],
   "source": [
    "def rm_inside_edges(all_edges):\n",
    "    uniq, counts = np.unique(all_edges, return_counts=True, axis=0)\n",
    "    repeat_idx = np.nonzero(counts-1)[0]\n",
    "    external_only = np.delete(uniq, repeat_idx, axis=0)\n",
    "    return external_only\n",
    "\n",
    "all_external_light_edges = rm_inside_edges(all_light_edges)\n",
    "print(all_external_light_edges)\n",
    "print(all_external_light_edges.shape)\n",
    "\n",
    "# change edges into verteces\n",
    "print(all_external_light_edges.reshape((len(all_external_light_edges)*2, 2)))"
   ]
  },
  {
   "cell_type": "markdown",
   "metadata": {},
   "source": [
    "## put everything together"
   ]
  },
  {
   "cell_type": "code",
   "execution_count": 185,
   "metadata": {},
   "outputs": [],
   "source": [
    "def get_light_verteces(origin, obj_anchors):\n",
    "    edges_by_anchor = anchors_to_edgelists(obj_anchors)\n",
    "    all_light_edges = []\n",
    "    for sq in edges_by_anchor:\n",
    "        light_edges = remove_shadow_edges(origin, sq)\n",
    "        ext_light_edges = rm_inside_edges(light_edges)\n",
    "        for edge in ext_light_edges:\n",
    "            all_light_edges.append(edge)\n",
    "    all_light_edges = np.array(all_light_edges)\n",
    "    print(all_light_edges)\n",
    "    return all_light_edges.reshape((len(all_light_edges)*2, 2))"
   ]
  },
  {
   "cell_type": "code",
   "execution_count": 186,
   "metadata": {},
   "outputs": [
    {
     "name": "stdout",
     "output_type": "stream",
     "text": [
      "[[ 0.  1.  1.  1.]\n",
      " [ 1.  0.  1.  1.]\n",
      " [ 1.  3.  2.  3.]\n",
      " [ 2.  2.  2.  3.]\n",
      " [ 2.  5.  3.  5.]\n",
      " [ 3.  4.  3.  5.]\n",
      " [ 3.  5.  4.  5.]\n",
      " [ 4.  4.  4.  5.]\n",
      " [10. 14. 11. 14.]\n",
      " [11. 13. 11. 14.]\n",
      " [10. 13. 11. 13.]\n",
      " [11. 12. 11. 13.]\n",
      " [11. 13. 12. 13.]\n",
      " [12. 12. 12. 13.]]\n",
      "[[ 0.  1.]\n",
      " [ 1.  1.]\n",
      " [ 1.  0.]\n",
      " [ 1.  1.]\n",
      " [ 1.  3.]\n",
      " [ 2.  3.]\n",
      " [ 2.  2.]\n",
      " [ 2.  3.]\n",
      " [ 2.  5.]\n",
      " [ 3.  5.]\n",
      " [ 3.  4.]\n",
      " [ 3.  5.]\n",
      " [ 3.  5.]\n",
      " [ 4.  5.]\n",
      " [ 4.  4.]\n",
      " [ 4.  5.]\n",
      " [10. 14.]\n",
      " [11. 14.]\n",
      " [11. 13.]\n",
      " [11. 14.]\n",
      " [10. 13.]\n",
      " [11. 13.]\n",
      " [11. 12.]\n",
      " [11. 13.]\n",
      " [11. 13.]\n",
      " [12. 13.]\n",
      " [12. 12.]\n",
      " [12. 13.]]\n"
     ]
    }
   ],
   "source": [
    "reshaped = get_light_verteces(origin, anchor_coords2)\n",
    "print(reshaped)\n"
   ]
  },
  {
   "cell_type": "markdown",
   "metadata": {},
   "source": [
    "# time tests"
   ]
  },
  {
   "cell_type": "code",
   "execution_count": 187,
   "metadata": {},
   "outputs": [
    {
     "name": "stdout",
     "output_type": "stream",
     "text": [
      "0.0\n"
     ]
    }
   ],
   "source": [
    "# run\n",
    "t0 = time.time()\n",
    "t1 = time.time()\n",
    "print(t1-t0)"
   ]
  },
  {
   "cell_type": "markdown",
   "metadata": {},
   "source": [
    "# Python Lessons"
   ]
  },
  {
   "cell_type": "code",
   "execution_count": 188,
   "metadata": {},
   "outputs": [
    {
     "name": "stdout",
     "output_type": "stream",
     "text": [
      "[2 4]\n"
     ]
    }
   ],
   "source": [
    "# boolean arrays as numpy indices\n",
    "a = np.array([False, True, False, True])\n",
    "b = np.array([1,2,3,4])\n",
    "print(b[a])"
   ]
  },
  {
   "cell_type": "code",
   "execution_count": 189,
   "metadata": {},
   "outputs": [
    {
     "name": "stdout",
     "output_type": "stream",
     "text": [
      "[[2 2 3 3]\n",
      " [2 2 3 3]\n",
      " [5 5 6 6]\n",
      " [5 5 6 6]\n",
      " [7 7 9 9]\n",
      " [7 7 9 9]]\n"
     ]
    }
   ],
   "source": [
    "# Repeats with Numpy\n",
    "a = np.array([[2, 3], [5, 6], [7, 9]])\n",
    "r_a = np.repeat(a, repeats=2, axis=0)\n",
    "r_a = np.repeat(r_a, repeats=2, axis=1)\n",
    "print(r_a)"
   ]
  },
  {
   "cell_type": "code",
   "execution_count": 191,
   "metadata": {},
   "outputs": [
    {
     "name": "stdout",
     "output_type": "stream",
     "text": [
      "[ 0  2 64]\n",
      "[  1   5 100]\n"
     ]
    }
   ],
   "source": [
    "# numpy min of array\n",
    "a = np.array([[0,1], [5,2], [100, 64]])\n",
    "print(a.min(1))\n",
    "print(a.max(1))"
   ]
  },
  {
   "cell_type": "markdown",
   "metadata": {},
   "source": [
    "# Experimentation"
   ]
  },
  {
   "cell_type": "code",
   "execution_count": null,
   "metadata": {},
   "outputs": [
    {
     "name": "stdout",
     "output_type": "stream",
     "text": [
      "[[[0 0]\n",
      "  [0 0]]\n",
      "\n",
      " [[1 2]\n",
      "  [2 4]]\n",
      "\n",
      " [[2 2]\n",
      "  [2 2]]] \n",
      "--------\n",
      "[0 1] \n",
      "--------\n",
      "[[[2 2]\n",
      "  [2 2]]]\n"
     ]
    }
   ],
   "source": [
    "# killing repeats\n",
    "eee = np.array([\n",
    "    [[0, 0], [0, 0]],\n",
    "    [[0, 0], [0, 0]],\n",
    "    [[1, 2], [2, 4]],\n",
    "    [[1, 2], [2, 4]],\n",
    "    [[2, 2], [2, 2]]])\n",
    "b, cnts = np.unique(eee, return_counts=True, axis=0)\n",
    "remove_idx = np.nonzero(cnts-1)[0]\n",
    "cleaned = np.delete(b, remove_idx, axis=0)\n",
    "print(b, \"\\n--------\")\n",
    "print(remove_idx, \"\\n--------\")\n",
    "print(cleaned)\n"
   ]
  },
  {
   "cell_type": "code",
   "execution_count": 206,
   "metadata": {},
   "outputs": [
    {
     "name": "stdout",
     "output_type": "stream",
     "text": [
      "[1 2] [1 1]\n",
      "2.0 1.0\n",
      "52.098904879217365\n",
      "48.21273601220948\n"
     ]
    }
   ],
   "source": [
    "orgn = np.array([10, 10])\n",
    "\n",
    "edge_array = np.array([\n",
    "    [11, 12, 11, 11],\n",
    "    [11, 12, 11, 11],\n",
    "    [11, 12, 11, 11],\n",
    "    [11, 12, 11, 11],\n",
    "])\n",
    "\n",
    "def circle_practice(edge_array):\n",
    "    for a in edge_array:\n",
    "        print(\"----\")\n",
    "        a1 = a[:2]\n",
    "        a2 = a[2:]\n",
    "\n",
    "        step1 = a1 - orgn\n",
    "        step2 = a2 - orgn\n",
    "        print(step1, step2)\n",
    "\n",
    "        slope1 = step1[1]/step1[0]\n",
    "        slope2 = step2[1]/step2[0]\n",
    "        print(slope1, slope2)\n",
    "\n",
    "        rad1 = np.degrees(np.sin(slope1))\n",
    "        rad2 = np.degrees(np.sin(slope2))\n",
    "        print(rad1)\n",
    "        print(rad2)"
   ]
  },
  {
   "cell_type": "code",
   "execution_count": 232,
   "metadata": {},
   "outputs": [
    {
     "name": "stdout",
     "output_type": "stream",
     "text": [
      "[ 0.          0.78539816  1.57079633  2.35619449  3.14159265 -2.35619449\n",
      " -1.57079633 -0.78539816]\n",
      "[   0.   45.   90.  135.  180. -135.  -90.  -45.]\n",
      "[  0.  45.  90. 135. 180. 225. 270. 315.]\n"
     ]
    }
   ],
   "source": [
    "orgn = np.array([10, 10])\n",
    "point_array = np.array([\n",
    "    [10, 11],\n",
    "    [11, 11],\n",
    "    [11, 10],\n",
    "    [11,  9],\n",
    "    [10,  9],\n",
    "    [9,   9],\n",
    "    [9,  10],\n",
    "    [9,  11]])\n",
    "\n",
    "pa = point_array.T\n",
    "\n",
    "rads = np.arctan2(pa[0]-orgn[0], pa[1]-orgn[1])\n",
    "degs = np.degrees(rads)\n",
    "full_degs = degs + (degs<0)*360\n",
    "print(rads)\n",
    "print(degs)\n",
    "print(full_degs)\n",
    "\n",
    "# def circle_practice(origin, point_array):\n",
    "#     for a in point_array:\n",
    "#         step = a - origin\n",
    "#         # print(step[1])\n",
    "#         rads = np.arctan(step[0]/step[1])\n",
    "#         degs = np.degrees(rads)\n",
    "#         if step[1] < 0:\n",
    "#             degs += 180\n",
    "#         if step[1] == 0:\n",
    "#             print(f\"div by 0\")\n",
    "#         print(step, degs, rads, sep=' | ')\n",
    "\n",
    "# circle_practice(orgn, point_array)"
   ]
  },
  {
   "cell_type": "code",
   "execution_count": 248,
   "metadata": {},
   "outputs": [
    {
     "ename": "IndexError",
     "evalue": "invalid index to scalar variable.",
     "output_type": "error",
     "traceback": [
      "\u001b[1;31m---------------------------------------------------------------------------\u001b[0m",
      "\u001b[1;31mIndexError\u001b[0m                                Traceback (most recent call last)",
      "Cell \u001b[1;32mIn [248], line 13\u001b[0m\n\u001b[0;32m     11\u001b[0m upper \u001b[39m=\u001b[39m \u001b[39mTrue\u001b[39;00m\n\u001b[0;32m     12\u001b[0m \u001b[39mfor\u001b[39;00m seg \u001b[39min\u001b[39;00m segments:\n\u001b[1;32m---> 13\u001b[0m     \u001b[39mif\u001b[39;00m seg[\u001b[39m0\u001b[39m] \u001b[39m<\u001b[39m\u001b[39m=\u001b[39m entry[\u001b[39m0\u001b[39m] \u001b[39m<\u001b[39m\u001b[39m=\u001b[39m seg[\u001b[39m1\u001b[39m]:\n\u001b[0;32m     14\u001b[0m         lower \u001b[39m=\u001b[39m \u001b[39mFalse\u001b[39;00m\n\u001b[0;32m     15\u001b[0m     \u001b[39mif\u001b[39;00m seg[\u001b[39m0\u001b[39m] \u001b[39m<\u001b[39m\u001b[39m=\u001b[39m entry[\u001b[39m1\u001b[39m] \u001b[39m<\u001b[39m\u001b[39m=\u001b[39m seg[\u001b[39m1\u001b[39m]:\n",
      "\u001b[1;31mIndexError\u001b[0m: invalid index to scalar variable."
     ]
    }
   ],
   "source": [
    "segments = []\n",
    "closest_edges = np.array([\n",
    "    [0,   90 ],\n",
    "    [45,  135],\n",
    "    [30,  60 ],\n",
    "    [0,   10 ],\n",
    "    [355, 360]])\n",
    "\n",
    "for i, entry in closest_edges:\n",
    "    lower = True\n",
    "    upper = True\n",
    "    for seg in segments:\n",
    "        if seg[0] <= entry[0] <= seg[1]:\n",
    "            lower = False\n",
    "        if seg[0] <= entry[1] <= seg[1]:\n",
    "            upper = False\n",
    "    if lower or upper:\n",
    "        segments.append(entry)\n",
    "\n",
    "\n",
    "print(np.array(segments))"
   ]
  },
  {
   "cell_type": "code",
   "execution_count": 263,
   "metadata": {},
   "outputs": [
    {
     "name": "stdout",
     "output_type": "stream",
     "text": [
      "[[  0  90]\n",
      " [ 45 135]\n",
      " [ 30  60]\n",
      " [  0  10]\n",
      " [ 20  30]\n",
      " [355 360]]\n"
     ]
    }
   ],
   "source": [
    "closest_edges = np.array([\n",
    "    [[0,   90],\n",
    "    [45,  135]],\n",
    "    [[30,  60],\n",
    "    [0,   10]],\n",
    "    [[20, 30],\n",
    "    [355, 360]]])\n",
    "a = np.concatenate(closest_edges)\n",
    "print(a)\n"
   ]
  },
  {
   "cell_type": "code",
   "execution_count": 65,
   "metadata": {},
   "outputs": [
    {
     "name": "stdout",
     "output_type": "stream",
     "text": [
      "0.8389765655990221\n",
      "[[10, 10], [10, 11.0], [10.0, 12.0], [11.0, 14.0], [13.0, 17.0], [16.0, 21.0], [20.0, 26.0], [25.0, 31.0], [30.0, 37.0], [36.0, 44.0], [43.0, 52.0], [51.0, 61.0], [60.0, 71.0], [70.0, 81.0], [80.0, 92.0], [91.0, 104.0], [103.0, 117.0], [116.0, 131.0], [130.0, 146.0], [145.0, 161.0], [160.0, 177.0], [176.0, 194.0], [193.0, 212.0], [211.0, 231.0], [230.0, 251.0], [250.0, 271.0], [270.0, 292.0], [291.0, 314.0], [313.0, 337.0], [336.0, 361.0], [360.0, 386.0], [385.0, 412.0], [411.0, 438.0], [437.0, 465.0], [464.0, 493.0], [492.0, 522.0], [521.0, 552.0], [551.0, 583.0], [582.0, 614.0], [613.0, 646.0], [645.0, 679.0], [678.0, 713.0], [712.0, 748.0], [747.0, 784.0], [783.0, 820.0], [819.0, 857.0], [856.0, 895.0], [894.0, 934.0], [933.0, 974.0], [973.0, 1015.0], [1014.0, 1056.0], [1055.0, 1098.0], [1097.0, 1141.0], [1140.0, 1185.0], [1184.0, 1230.0], [1229.0, 1276.0], [1275.0, 1322.0], [1321.0, 1369.0], [1368.0, 1417.0], [1416.0, 1466.0], [1465.0, 1516.0], [1515.0, 1567.0], [1566.0, 1619.0], [1618.0, 1671.0], [1670.0, 1724.0], [1723.0, 1778.0], [1777.0, 1833.0], [1832.0, 1889.0], [1888.0, 1946.0], [1945.0, 2003.0], [2002.0, 2061.0], [2060.0, 2120.0], [2119.0, 2180.0], [2179.0, 2241.0], [2240.0, 2303.0], [2302.0, 2365.0], [2364.0, 2428.0], [2427.0, 2492.0], [2491.0, 2557.0]]\n"
     ]
    }
   ],
   "source": [
    "import numpy as np\n",
    "\n",
    "def circular_direction(density=360):\n",
    "    segments = np.linspace(0.0001, np.pi, density, endpoint=False)\n",
    "    return segments\n",
    "\n",
    "degs = circular_direction()\n",
    "\n",
    "xy = [12, 10]\n",
    "\n",
    "def fx(x, slope):\n",
    "    y = x * slope\n",
    "    return y\n",
    "\n",
    "# [x][seg_n(degs?)] -> [squares].T?\n",
    "\n",
    "dims = [78, 58]\n",
    "x_p = np.linspace(0, dims[0], dims[0]+1)  # +0.5  ?\n",
    "x_m = -x_p\n",
    "# y_p = np.linspace(0, dims[1], dims[1]+1)\n",
    "# y_m = -y_p\n",
    "\n",
    "deg = degs[100]\n",
    "slope = np.cos(deg)/np.sin(deg)\n",
    "print(slope)\n",
    "\n",
    "\n",
    "def get_tiles(xs, slope, y_shift):\n",
    "    all_y_chunks = []\n",
    "    start = y_shift\n",
    "    for i, x in enumerate(xs):\n",
    "        new_y = x*slope\n",
    "        if np.mod(new_y, 1) == 0:\n",
    "            start += int(new_y)\n",
    "            all_y_chunks.append([start, start+int(new_y)])\n",
    "        else:\n",
    "            all_y_chunks.append([start, start+np.ceil(new_y)])\n",
    "            start += np.floor(new_y)\n",
    "    return all_y_chunks\n",
    "\n",
    "y_chunks = get_tiles(x_p, slope, 10)\n",
    "print(y_chunks)\n",
    "\n",
    "\n",
    "\n",
    "\n",
    "# x2 = np.zeros(len(x_idx))\n",
    "# for i in x_idx:\n",
    "#     x2[i] = i\n",
    "# print(x2)\n",
    "\n",
    "# selfy = xs\n",
    "\n",
    "# print(np.inner(xs, degs))\n",
    "\n",
    "# [x/y][step][degs]\n",
    "\n",
    "\n",
    "\n",
    "# line = np.array([[1,1,1,1,1,1], [1,1,1,1,1,1]])\n",
    "# rads = np.array([[1, 3, 5], [0, 2, 4]])\n",
    "# print(np.cross(rads, line))"
   ]
  },
  {
   "cell_type": "code",
   "execution_count": 62,
   "metadata": {},
   "outputs": [
    {
     "name": "stdout",
     "output_type": "stream",
     "text": [
      "True\n"
     ]
    }
   ],
   "source": [
    "import numpy as np\n",
    "x = 5.0\n",
    "a = np.mod(x, 1) == 0\n",
    "print(a)"
   ]
  }
 ],
 "metadata": {
  "kernelspec": {
   "display_name": "Python 3.10.4 ('bowels')",
   "language": "python",
   "name": "python3"
  },
  "language_info": {
   "codemirror_mode": {
    "name": "ipython",
    "version": 3
   },
   "file_extension": ".py",
   "mimetype": "text/x-python",
   "name": "python",
   "nbconvert_exporter": "python",
   "pygments_lexer": "ipython3",
   "version": "3.10.4"
  },
  "orig_nbformat": 4,
  "vscode": {
   "interpreter": {
    "hash": "1532b9a924d0c04a25717918ec68939d613fe25ea862949fde5ad1cd42522576"
   }
  }
 },
 "nbformat": 4,
 "nbformat_minor": 2
}
