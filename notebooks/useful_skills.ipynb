{
 "cells": [
  {
   "cell_type": "code",
   "execution_count": null,
   "metadata": {},
   "outputs": [],
   "source": [
    "import numpy as np"
   ]
  },
  {
   "cell_type": "code",
   "execution_count": null,
   "metadata": {},
   "outputs": [],
   "source": [
    "# Adding different entries to array columns\n",
    "\n",
    "template = np.array([\n",
    "    [0, 0],\n",
    "    [0, 1],\n",
    "    [1, 0],\n",
    "    [0, 1],\n",
    "    [1, 0],\n",
    "    [1, 1]])\n",
    "\n",
    "xy = [5, 7]\n",
    "\n",
    "moved = template + xy\n",
    "print(moved)\n",
    "print(moved.flatten())\n"
   ]
  },
  {
   "cell_type": "code",
   "execution_count": null,
   "metadata": {},
   "outputs": [],
   "source": [
    "# boolean arrays as numpy indices\n",
    "\n",
    "a = np.array([False, True, False, True])\n",
    "b = np.array([1, 2, 3, 4])\n",
    "print(b[a])\n"
   ]
  },
  {
   "cell_type": "code",
   "execution_count": null,
   "metadata": {},
   "outputs": [],
   "source": [
    "# Repeats with Numpy\n",
    "\n",
    "a = np.array([[2, 3], [5, 6], [7, 9]])\n",
    "r_a = np.repeat(a, repeats=2, axis=0)\n",
    "r_a = np.repeat(r_a, repeats=2, axis=1)\n",
    "print(r_a)"
   ]
  },
  {
   "cell_type": "code",
   "execution_count": null,
   "metadata": {},
   "outputs": [],
   "source": [
    "# numpy min of array\n",
    "\n",
    "a = np.array([[0,1], [5,2], [100, 64]])\n",
    "print(a.min(1))\n",
    "print(a.max(1))"
   ]
  },
  {
   "cell_type": "code",
   "execution_count": null,
   "metadata": {},
   "outputs": [],
   "source": [
    "# cartesian product\n",
    "\n",
    "x = [0, 1]\n",
    "y = [2, 3, 4, 5]\n",
    "a = np.transpose([np.tile(x, len(y)), np.repeat(y, len(x))])\n",
    "print(a)\n"
   ]
  },
  {
   "cell_type": "code",
   "execution_count": null,
   "metadata": {},
   "outputs": [],
   "source": [
    "# numpy ndarray indexing\n",
    "\n",
    "rgbos = np.random.randint(0, 255, (80, 60, 4)).astype(type)\n",
    "x_vals = [10, 11, 13]\n",
    "y_vals = [21, 22, 23]\n",
    "coords = np.array([x_vals, y_vals])\n",
    "a = rgbos[coords[0], coords[1]]\n",
    "print(rgbos.shape)\n",
    "print(a.shape)"
   ]
  },
  {
   "cell_type": "code",
   "execution_count": null,
   "metadata": {},
   "outputs": [],
   "source": [
    "# adding xy coords to an array of xy coords\n",
    "\n",
    "xy_list = np.array([np.arange(3), np.arange(3)]).T\n",
    "xy_list += np.array([2, 3])-1\n",
    "print(xy_list)\n"
   ]
  }
 ],
 "metadata": {
  "kernelspec": {
   "display_name": "Python 3.10.4 ('bowels')",
   "language": "python",
   "name": "python3"
  },
  "language_info": {
   "name": "python",
   "version": "3.10.4"
  },
  "orig_nbformat": 4,
  "vscode": {
   "interpreter": {
    "hash": "1532b9a924d0c04a25717918ec68939d613fe25ea862949fde5ad1cd42522576"
   }
  }
 },
 "nbformat": 4,
 "nbformat_minor": 2
}
