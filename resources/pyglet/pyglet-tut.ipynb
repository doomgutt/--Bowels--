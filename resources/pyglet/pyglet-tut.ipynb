{
 "cells": [
  {
   "cell_type": "markdown",
   "metadata": {},
   "source": [
    "# Pyglet Tutorial"
   ]
  },
  {
   "cell_type": "code",
   "execution_count": 2,
   "metadata": {},
   "outputs": [],
   "source": [
    "import pyglet\n",
    "from pyglet import shapes"
   ]
  },
  {
   "cell_type": "markdown",
   "metadata": {},
   "source": [
    "## Basics"
   ]
  },
  {
   "cell_type": "markdown",
   "metadata": {},
   "source": [
    "### Window\n",
    "https://pyglet.readthedocs.io/en/latest/modules/window.html"
   ]
  },
  {
   "cell_type": "code",
   "execution_count": 3,
   "metadata": {},
   "outputs": [],
   "source": [
    "# make window\n",
    "window = pyglet.window.Window(960, 540)\n",
    "\n",
    "# add to batch\n",
    "batch = pyglet.graphics.Batch()\n",
    "\n",
    "# run pyglet\n",
    "pyglet.app.run()\n"
   ]
  },
  {
   "cell_type": "markdown",
   "metadata": {},
   "source": [
    "### X,Y coordinates\n",
    "Pyglet uses classic mathematical coordinates where the bottom left corner is (0,0)"
   ]
  },
  {
   "cell_type": "code",
   "execution_count": 4,
   "metadata": {},
   "outputs": [],
   "source": [
    "window = pyglet.window.Window(960, 540)\n",
    "batch = pyglet.graphics.Batch()\n",
    "\n",
    "\n",
    "col = 55\n",
    "xx = pyglet.shapes.Rectangle(30, 60, 10, 10, color=(col, col, col), batch=batch)\n",
    "\n",
    "\n",
    "@window.event\n",
    "def on_draw():\n",
    "    window.clear()\n",
    "    batch.draw()\n",
    "\n",
    "pyglet.app.run()\n"
   ]
  },
  {
   "cell_type": "markdown",
   "metadata": {},
   "source": [
    "### Batches"
   ]
  },
  {
   "cell_type": "code",
   "execution_count": 9,
   "metadata": {},
   "outputs": [],
   "source": [
    "window = pyglet.window.Window(960, 540)\n",
    "batch = pyglet.graphics.Batch()\n",
    "\n",
    "\n",
    "xx = pyglet.shapes.Rectangle(20, 20, 100, 100, color=(255,255,255), batch=batch)\n",
    "\n",
    "\n",
    "@window.event\n",
    "def on_draw():\n",
    "    window.clear()\n",
    "    batch.draw()\n",
    "\n",
    "\n",
    "pyglet.app.run()\n"
   ]
  },
  {
   "cell_type": "markdown",
   "metadata": {},
   "source": [
    "### Basic shapes\n",
    "https://pyglet.readthedocs.io/en/latest/modules/shapes.html\n",
    "\n",
    "These are internally implemented using OpenGL.\n",
    "\n",
    "(it might be quicker to not rely on these, but for now it's not a problem)\n",
    "\n",
    "**!Note!** Make sure to assign the shape to a variable, otherwise it won't draw"
   ]
  },
  {
   "cell_type": "code",
   "execution_count": 6,
   "metadata": {},
   "outputs": [],
   "source": [
    "window = pyglet.window.Window(960, 540)\n",
    "batch = pyglet.graphics.Batch()\n",
    "\n",
    "circle = shapes.Circle(700, 150, 100, color=(50, 225, 30), batch=batch)\n",
    "square = shapes.Rectangle(200, 200, 200, 200, color=(55, 55, 255), batch=batch)\n",
    "rectangle = shapes.Rectangle(250, 300, 400, 200, color=(255, 22, 20), batch=batch)\n",
    "rectangle.opacity = 128\n",
    "rectangle.rotation = 33\n",
    "line = shapes.Line(100, 100, 100, 200, width=19, batch=batch)\n",
    "line2 = shapes.Line(150, 150, 444, 111, width=4, color=(200, 20, 20), batch=batch)\n",
    "\n",
    "\n",
    "@window.event\n",
    "def on_draw():\n",
    "    window.clear()\n",
    "    batch.draw()\n",
    "\n",
    "\n",
    "pyglet.app.run()\n"
   ]
  },
  {
   "cell_type": "markdown",
   "metadata": {},
   "source": [
    "### Open GL"
   ]
  },
  {
   "cell_type": "code",
   "execution_count": 7,
   "metadata": {},
   "outputs": [],
   "source": [
    "window = pyglet.window.Window(960, 540)\n",
    "batch = pyglet.graphics.Batch()\n",
    "\n",
    "pyglet.graphics.draw_indexed(3, pyglet.gl.GL_TRIANGLES,\n",
    "                             [0, 1, 2],\n",
    "                             ('v2i', (300, 350,\n",
    "                                      0,   0,\n",
    "                                      350, 0)))\n",
    "\n",
    "pyglet.app.run()\n"
   ]
  },
  {
   "cell_type": "markdown",
   "metadata": {},
   "source": [
    "# Cellular Automata\n",
    "https://www.youtube.com/watch?v=HzOIGU9ilIs"
   ]
  },
  {
   "cell_type": "markdown",
   "metadata": {},
   "source": [
    "## Custom window class"
   ]
  },
  {
   "cell_type": "code",
   "execution_count": 8,
   "metadata": {},
   "outputs": [],
   "source": [
    "class Window(pyglet.window.Window):\n",
    "\n",
    "    def __init__(self):\n",
    "        super().__init__()\n",
    "        self.set_size(600, 600)\n",
    "    \n",
    "    def on_draw(self):\n",
    "        self.clear()\n",
    "        pyglet.graphics.draw_indexed(3, pyglet.gl.GL_TRIANGLES,\n",
    "                                        [0, 1, 2],\n",
    "                                        ('v2i', (300, 350,\n",
    "                                                 0, 0,\n",
    "                                                 350, 0)))\n",
    "\n",
    "window = Window()\n",
    "pyglet.app.run()"
   ]
  },
  {
   "cell_type": "code",
   "execution_count": 2,
   "metadata": {},
   "outputs": [
    {
     "name": "stdout",
     "output_type": "stream",
     "text": [
      "[0, 1]\n"
     ]
    }
   ],
   "source": [
    "import numpy as np\n",
    "a = [0,0]\n",
    "a[1] += 1\n",
    "print(a)"
   ]
  },
  {
   "cell_type": "code",
   "execution_count": 5,
   "metadata": {},
   "outputs": [
    {
     "name": "stdout",
     "output_type": "stream",
     "text": [
      "-1.0\n"
     ]
    }
   ],
   "source": [
    "a = 0.9999\n",
    "b = -0.9999\n",
    "print(a/b)"
   ]
  },
  {
   "cell_type": "code",
   "execution_count": 7,
   "metadata": {},
   "outputs": [
    {
     "name": "stdout",
     "output_type": "stream",
     "text": [
      "[0, 0]\n"
     ]
    }
   ],
   "source": [
    "a = [0,0]\n",
    "def testfun():\n",
    "    b = a\n",
    "    b[1] += 1\n",
    "\n",
    "print(a)"
   ]
  }
 ],
 "metadata": {
  "kernelspec": {
   "display_name": "Python 3.10.4 ('bowels')",
   "language": "python",
   "name": "python3"
  },
  "language_info": {
   "codemirror_mode": {
    "name": "ipython",
    "version": 3
   },
   "file_extension": ".py",
   "mimetype": "text/x-python",
   "name": "python",
   "nbconvert_exporter": "python",
   "pygments_lexer": "ipython3",
   "version": "3.10.4"
  },
  "orig_nbformat": 4,
  "vscode": {
   "interpreter": {
    "hash": "1532b9a924d0c04a25717918ec68939d613fe25ea862949fde5ad1cd42522576"
   }
  }
 },
 "nbformat": 4,
 "nbformat_minor": 2
}
