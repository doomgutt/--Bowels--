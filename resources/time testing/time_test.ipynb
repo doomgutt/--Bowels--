{
 "cells": [
  {
   "cell_type": "markdown",
   "metadata": {},
   "source": [
    "## Changing the whole grid vs looking for specific values"
   ]
  },
  {
   "cell_type": "code",
   "execution_count": null,
   "metadata": {},
   "outputs": [],
   "source": [
    "import time\n",
    "import numpy as np\n",
    "# x = np.array([[3, 0, 0], [0, 4, 0], [5, 6, 0]])\n",
    "x = np.random.randint(0, 1, (1000000000))\n",
    "\n",
    "# t0 = time.time()\n",
    "# x[np.nonzero(x)] = 0\n",
    "# t1 = time.time()\n",
    "\n",
    "# total = t1-t0\n",
    "# print(total)\n",
    "\n",
    "# t0 = time.time()\n",
    "# x = 0\n",
    "# t1 = time.time()\n",
    "\n",
    "# total = t1-t0\n",
    "# print(total)\n"
   ]
  }
 ],
 "metadata": {
  "kernelspec": {
   "display_name": "Python 3.10.4 ('bowels')",
   "language": "python",
   "name": "python3"
  },
  "language_info": {
   "name": "python",
   "version": "3.10.4"
  },
  "orig_nbformat": 4,
  "vscode": {
   "interpreter": {
    "hash": "1532b9a924d0c04a25717918ec68939d613fe25ea862949fde5ad1cd42522576"
   }
  }
 },
 "nbformat": 4,
 "nbformat_minor": 2
}
