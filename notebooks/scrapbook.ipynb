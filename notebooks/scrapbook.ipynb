{
 "cells": [
  {
   "cell_type": "code",
   "execution_count": 32,
   "metadata": {},
   "outputs": [],
   "source": [
    "import numpy as np"
   ]
  },
  {
   "cell_type": "code",
   "execution_count": 33,
   "metadata": {},
   "outputs": [
    {
     "name": "stdout",
     "output_type": "stream",
     "text": [
      "[[100 100 100 255]\n",
      " [100 100 100 255]\n",
      " [150 150 150 255]\n",
      " [150 150 150 255]\n",
      " [200 200 200 255]\n",
      " [200 200 200 255]]\n"
     ]
    }
   ],
   "source": [
    "a = np.array([\n",
    "    [100, 100, 100, 255],\n",
    "    [150, 150, 150, 255],\n",
    "    [200, 200, 200, 255]\n",
    "])\n",
    "\n",
    "print(np.repeat(a, 2, axis=0))"
   ]
  },
  {
   "cell_type": "code",
   "execution_count": 34,
   "metadata": {},
   "outputs": [
    {
     "name": "stdout",
     "output_type": "stream",
     "text": [
      "[1 2]\n"
     ]
    }
   ],
   "source": [
    "a = np.array([0,1,2])\n",
    "b = np.array([1,1])\n",
    "print(a[:2]+b)"
   ]
  },
  {
   "cell_type": "code",
   "execution_count": 37,
   "metadata": {},
   "outputs": [
    {
     "name": "stdout",
     "output_type": "stream",
     "text": [
      "[ 18  20  19 255]\n",
      "[ 18  19  19 255]\n",
      "[ 19  20  18 255]\n",
      "[ 21  21  21 255]\n",
      "[ 20  20  21 255]\n",
      "[ 18  20  19 255]\n",
      "[ 20  21  21 255]\n",
      "[ 21  20  20 255]\n",
      "[ 19  18  20 255]\n",
      "[ 20  20  18 255]\n"
     ]
    }
   ],
   "source": [
    "rand_val = 2\n",
    "for x in range(10):\n",
    "    rnd = np.random.randint(-rand_val, rand_val, 3)\n",
    "    floor_rgbo = np.array([20,  20,  20 , 255])\n",
    "    floor_rgbo[:3] += rnd\n",
    "    print(floor_rgbo)\n"
   ]
  }
 ],
 "metadata": {
  "kernelspec": {
   "display_name": "Python 3.10.4 ('bowels')",
   "language": "python",
   "name": "python3"
  },
  "language_info": {
   "codemirror_mode": {
    "name": "ipython",
    "version": 3
   },
   "file_extension": ".py",
   "mimetype": "text/x-python",
   "name": "python",
   "nbconvert_exporter": "python",
   "pygments_lexer": "ipython3",
   "version": "3.10.4"
  },
  "orig_nbformat": 4,
  "vscode": {
   "interpreter": {
    "hash": "1532b9a924d0c04a25717918ec68939d613fe25ea862949fde5ad1cd42522576"
   }
  }
 },
 "nbformat": 4,
 "nbformat_minor": 2
}
