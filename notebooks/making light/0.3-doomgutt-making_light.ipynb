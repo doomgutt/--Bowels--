{
 "cells": [
  {
   "cell_type": "code",
   "execution_count": 44,
   "metadata": {},
   "outputs": [
    {
     "name": "stdout",
     "output_type": "stream",
     "text": [
      "The autoreload extension is already loaded. To reload it, use:\n",
      "  %reload_ext autoreload\n"
     ]
    }
   ],
   "source": [
    "%load_ext autoreload\n",
    "%autoreload 2"
   ]
  },
  {
   "cell_type": "code",
   "execution_count": 45,
   "metadata": {},
   "outputs": [],
   "source": [
    "import numpy as np\n",
    "import time\n",
    "from numba import vectorize, guvectorize"
   ]
  },
  {
   "cell_type": "markdown",
   "metadata": {},
   "source": [
    "# Types"
   ]
  },
  {
   "cell_type": "markdown",
   "metadata": {},
   "source": [
    "## Data type limits\n",
    "\n",
    "int:  −(2n−1) to (2n−1 − 1)\n",
    "uint: 0 to (2n − 1) \n",
    "float:"
   ]
  },
  {
   "cell_type": "markdown",
   "metadata": {},
   "source": [
    "## Types in NumPy and NumBa\n",
    "### NumPy:\n",
    "https://numpy.org/doc/stable/user/basics.types.html\n",
    "https://numpy.org/doc/stable/reference/arrays.dtypes.html\n",
    "\n",
    "### NumBa:\n",
    "https://numba.pydata.org/numba-doc/dev/reference/types.html#basic-types"
   ]
  },
  {
   "cell_type": "code",
   "execution_count": 46,
   "metadata": {},
   "outputs": [],
   "source": [
    "npArr = np.random.randint(0, 3000, (10, 10))\n",
    "\n",
    "convtype = np.uint8\n",
    "convtype_info = np.iinfo(convtype)\n",
    "np.clip(npArr, convtype_info.min, convtype_info.max, npArr)\n",
    "npArr = npArr.astype(convtype)\n",
    "\n",
    "# print(npArr) \n",
    "# print(npArr)\n"
   ]
  },
  {
   "cell_type": "markdown",
   "metadata": {},
   "source": [
    "# NumBa stuff"
   ]
  },
  {
   "cell_type": "markdown",
   "metadata": {},
   "source": [
    "## Vectorize"
   ]
  },
  {
   "cell_type": "code",
   "execution_count": 47,
   "metadata": {},
   "outputs": [
    {
     "data": {
      "text/plain": [
       "array([2, 3, 4, 5, 6], dtype=uint32)"
      ]
     },
     "execution_count": 47,
     "metadata": {},
     "output_type": "execute_result"
    }
   ],
   "source": [
    "@guvectorize(\"(u4[:], u4, u4[:])\", '(n),()->(n)')\n",
    "def g(x, y, res):\n",
    "    for i in range(x.shape[0]):\n",
    "        res[i] = x[i] + y\n",
    "\n",
    "a = np.arange(5, dtype='u4')\n",
    "g(a, 2)"
   ]
  },
  {
   "cell_type": "markdown",
   "metadata": {},
   "source": [
    "# Game"
   ]
  },
  {
   "cell_type": "markdown",
   "metadata": {},
   "source": [
    "## Imports"
   ]
  },
  {
   "cell_type": "code",
   "execution_count": 48,
   "metadata": {},
   "outputs": [
    {
     "name": "stdout",
     "output_type": "stream",
     "text": [
      "(3, 5, 255, 4)\n"
     ]
    }
   ],
   "source": [
    "LAYERS = np.load(\"grid_example.npy\")\n",
    "rgbo_ref = grid_rgbo.mk_rgbo_ref()\n",
    "print(rgbo_ref.shape)"
   ]
  },
  {
   "cell_type": "markdown",
   "metadata": {},
   "source": [
    "## Testing speeds"
   ]
  },
  {
   "cell_type": "code",
   "execution_count": 49,
   "metadata": {},
   "outputs": [
    {
     "name": "stdout",
     "output_type": "stream",
     "text": [
      "0.14838838577270508\n",
      "0.1374063491821289\n"
     ]
    }
   ],
   "source": [
    "def mk_mix_rgbo(type, targ_str):\n",
    "    type_str = f\"({type}[:,:,:], {type}[:,:,:], {type}[:,:,:])\"\n",
    "\n",
    "    @guvectorize(\"(f8[:,:,:], f8[:,:,:], f8[:,:,:])\",\n",
    "                 '(i,j,x),(i,j,x)->(i,j,x)',\n",
    "                 target=targ_str, nopython=True, cache=True)\n",
    "    def mix_rgbo(rgbo1, rgbo2, rgbo_grid):\n",
    "        r1 = rgbo1.shape[0]\n",
    "        r2 = rgbo1.shape[1]\n",
    "        for i in range(r1):\n",
    "            for j in range(r2):\n",
    "                rgbo_grid[i, j, 3] = 255\n",
    "                rgbo_grid[i, j, :3] = rgbo1[i, j, :3] * \\\n",
    "                    (1-rgbo2[i, j, -1]/255) + \\\n",
    "                    rgbo2[i, j, :3]*(rgbo2[i, j, -1]/255)\n",
    "    return mix_rgbo\n",
    "\n",
    "\n",
    "def measure(rgbos1, rgbos2, iterations):\n",
    "    times = []\n",
    "    for _ in range(iterations):\n",
    "        t0 = time.time()\n",
    "        for _ in range(5):\n",
    "            rgbo_map = mix_func(rgbos1, rgbos2)\n",
    "        t1 = time.time()\n",
    "        t = (t1-t0)*60\n",
    "        times.append(t)\n",
    "    avg = np.mean(times)\n",
    "    print(avg)\n",
    "\n",
    "\n",
    "types = ['i4', 'f8']\n",
    "for type in types:\n",
    "    rgbos1 = np.random.randint(0, 255, (80, 60, 4)).astype(type)\n",
    "    rgbos2 = np.random.randint(0, 255, (80, 60, 4)).astype(type)\n",
    "    mix_func = mk_mix_rgbo(type, 'cpu')\n",
    "    measure(rgbos1, rgbos2, 10)\n"
   ]
  },
  {
   "cell_type": "markdown",
   "metadata": {},
   "source": [
    "## Generalizing rgbo-makers"
   ]
  },
  {
   "cell_type": "code",
   "execution_count": 50,
   "metadata": {},
   "outputs": [],
   "source": [
    "from src.game import grid_rgbo\n",
    "from src.game import open_gl_tools\n"
   ]
  },
  {
   "cell_type": "code",
   "execution_count": 51,
   "metadata": {},
   "outputs": [],
   "source": [
    "x = np.arange(LAYERS[0,0].shape[0], dtype='i8')\n",
    "y = np.arange(LAYERS[0,0].shape[1], dtype='i8')\n",
    "all_xy = np.transpose([np.tile(x, len(y)), np.repeat(y, len(x))])"
   ]
  },
  {
   "cell_type": "code",
   "execution_count": 52,
   "metadata": {},
   "outputs": [
    {
     "name": "stdout",
     "output_type": "stream",
     "text": [
      "(115200,)\n"
     ]
    }
   ],
   "source": [
    "\n",
    "rgbo_l01 = grid_rgbo.layer_to_rgbo(LAYERS, 0, 1, rgbo_ref)\n",
    "rgbo_l02 = grid_rgbo.layer_to_rgbo(LAYERS, 0, 2, rgbo_ref)\n",
    "rgbo_l11 = grid_rgbo.layer_to_rgbo(LAYERS, 1, 1, rgbo_ref)\n",
    "rgbo_l20 = grid_rgbo.layer_to_rgbo(LAYERS, 2, 0, rgbo_ref)\n",
    "\n",
    "\n",
    "l01_l02 = grid_rgbo.mix_2_rgbo_grids(rgbo_l01, rgbo_l02)\n",
    "l01_l02_l11 = grid_rgbo.mix_2_rgbo_grids(l01_l02, rgbo_l11)\n",
    "l01_l02_l11_l20 = grid_rgbo.mix_2_rgbo_grids(l01_l02_l11, rgbo_l20)\n",
    "\n",
    "c_list = open_gl_tools.grid_to_clist(all_xy, l01_l02_l11_l20)\n",
    "\n",
    "print(c_list.shape)"
   ]
  },
  {
   "cell_type": "markdown",
   "metadata": {},
   "source": [
    "## More stuff?"
   ]
  }
 ],
 "metadata": {
  "kernelspec": {
   "display_name": "Python 3.10.4 ('bowels')",
   "language": "python",
   "name": "python3"
  },
  "language_info": {
   "codemirror_mode": {
    "name": "ipython",
    "version": 3
   },
   "file_extension": ".py",
   "mimetype": "text/x-python",
   "name": "python",
   "nbconvert_exporter": "python",
   "pygments_lexer": "ipython3",
   "version": "3.10.4"
  },
  "orig_nbformat": 4,
  "vscode": {
   "interpreter": {
    "hash": "1532b9a924d0c04a25717918ec68939d613fe25ea862949fde5ad1cd42522576"
   }
  }
 },
 "nbformat": 4,
 "nbformat_minor": 2
}
