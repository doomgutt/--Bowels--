{
 "cells": [
  {
   "cell_type": "code",
   "execution_count": 1,
   "metadata": {},
   "outputs": [],
   "source": [
    "%matplotlib inline"
   ]
  },
  {
   "cell_type": "code",
   "execution_count": 2,
   "metadata": {},
   "outputs": [],
   "source": [
    "import numpy as np\n",
    "from numba import jit, njit, vectorize\n",
    "import random"
   ]
  },
  {
   "cell_type": "markdown",
   "metadata": {},
   "source": [
    "# Tutorial 1\n",
    "https://www.youtube.com/watch?v=x58W9A2lnQc&list=WL&index=6&t=1s\n",
    "\n",
    "## Reading list\n",
    "- [Deviation from Python Semantics](https://numba.pydata.org/numba-doc/dev/reference/pysemantics.html)\n",
    "- [Compiling code with @jit](http://numba.pydata.org/numba-doc/latest/user/jit.html#eager-compilation)\n",
    "- [Flexible specialization with @generated_jit](https://numba.pydata.org/numba-doc/dev/user/generated-jit.html)\n",
    "- [Compiling classes with @jitclass](https://numba.pydata.org/numba-doc/dev/user/jitclass.html)\n",
    "- [Troubleshooting and tips](https://numba.pydata.org/numba-doc/dev/user/troubleshoot.html)\n",
    "- [Types and signatures](https://numba.pydata.org/numba-doc/dev/reference/types.html)\n",
    "- [Compiling code ahead of time](https://numba.pydata.org/numba-doc/dev/user/pycc.html)\n",
    "- [Performance tips](https://numba.pydata.org/numba-doc/dev/user/performance-tips.html#fastmath)\n",
    "- [The Threading layers](https://numba.pydata.org/numba-doc/dev/user/threading-layer.html)\n",
    "\n",
    "## GPU stuff\n",
    "- [Numba for CUDA GPUs](https://numba.pydata.org/numba-doc/dev/cuda/index.html)\n",
    "- [Numba for AMD ROC GPUs](https://numba.pydata.org/numba-doc/dev/roc/index.html)\n",
    "\n",
    "## FAQ\n",
    "- [FAQ](https://numba.pydata.org/numba-doc/dev/user/faq.html)"
   ]
  },
  {
   "cell_type": "markdown",
   "metadata": {},
   "source": [
    "# Questions for Blue"
   ]
  },
  {
   "cell_type": "code",
   "execution_count": 3,
   "metadata": {},
   "outputs": [],
   "source": [
    "import numpy as np\n",
    "from numba import njit"
   ]
  },
  {
   "cell_type": "markdown",
   "metadata": {},
   "source": [
    "## Signatures"
   ]
  },
  {
   "cell_type": "code",
   "execution_count": 4,
   "metadata": {},
   "outputs": [
    {
     "data": {
      "text/plain": [
       "array([2., 3.])"
      ]
     },
     "execution_count": 4,
     "metadata": {},
     "output_type": "execute_result"
    }
   ],
   "source": [
    "@njit(\"float64[:](float64[:])\")\n",
    "def njit_empty_test(a):\n",
    "    a = a + 1\n",
    "    return a\n",
    "\n",
    "a = np.array([1,2], np.float64)\n",
    "njit_empty_test(a)"
   ]
  },
  {
   "cell_type": "code",
   "execution_count": 5,
   "metadata": {},
   "outputs": [
    {
     "ename": "TypingError",
     "evalue": "Failed in nopython mode pipeline (step: nopython frontend)\n\u001b[1m\u001b[1mNo conversion from array(int64, 1d, C) to array(int32, 1d, A) for '$12return_value.4', defined at None\n\u001b[1m\nFile \"C:\\Users\\demva\\AppData\\Local\\Temp\\ipykernel_18624\\345507318.py\", line 4:\u001b[0m\n\u001b[1mdef njit_empty_test(a):\n    <source elided>\n    a = a + 1\n\u001b[1m    return a\n\u001b[0m    \u001b[1m^\u001b[0m\u001b[0m\n\u001b[0m\n\u001b[0m\u001b[1mDuring: typing of assignment at C:\\Users\\demva\\AppData\\Local\\Temp\\ipykernel_18624\\345507318.py (4)\u001b[0m\n\u001b[1m\nFile \"C:\\Users\\demva\\AppData\\Local\\Temp\\ipykernel_18624\\345507318.py\", line 4:\u001b[0m\n\u001b[1mdef njit_empty_test(a):\n    <source elided>\n    a = a + 1\n\u001b[1m    return a\n\u001b[0m    \u001b[1m^\u001b[0m\u001b[0m\n",
     "output_type": "error",
     "traceback": [
      "\u001b[1;31m---------------------------------------------------------------------------\u001b[0m",
      "\u001b[1;31mTypingError\u001b[0m                               Traceback (most recent call last)",
      "Cell \u001b[1;32mIn [5], line 2\u001b[0m\n\u001b[0;32m      1\u001b[0m \u001b[39m@njit\u001b[39m(\u001b[39m\"\u001b[39m\u001b[39mint32[:](int32[:])\u001b[39m\u001b[39m\"\u001b[39m)\n\u001b[1;32m----> 2\u001b[0m \u001b[39mdef\u001b[39;00m \u001b[39mnjit_empty_test\u001b[39m(a):\n\u001b[0;32m      3\u001b[0m     a \u001b[39m=\u001b[39m a \u001b[39m+\u001b[39m \u001b[39m1\u001b[39m\n\u001b[0;32m      4\u001b[0m     \u001b[39mreturn\u001b[39;00m a\n",
      "File \u001b[1;32mc:\\Users\\demva\\anaconda3\\envs\\bowels\\lib\\site-packages\\numba\\core\\decorators.py:219\u001b[0m, in \u001b[0;36m_jit.<locals>.wrapper\u001b[1;34m(func)\u001b[0m\n\u001b[0;32m    217\u001b[0m     \u001b[39mwith\u001b[39;00m typeinfer\u001b[39m.\u001b[39mregister_dispatcher(disp):\n\u001b[0;32m    218\u001b[0m         \u001b[39mfor\u001b[39;00m sig \u001b[39min\u001b[39;00m sigs:\n\u001b[1;32m--> 219\u001b[0m             disp\u001b[39m.\u001b[39;49mcompile(sig)\n\u001b[0;32m    220\u001b[0m         disp\u001b[39m.\u001b[39mdisable_compile()\n\u001b[0;32m    221\u001b[0m \u001b[39mreturn\u001b[39;00m disp\n",
      "File \u001b[1;32mc:\\Users\\demva\\anaconda3\\envs\\bowels\\lib\\site-packages\\numba\\core\\dispatcher.py:965\u001b[0m, in \u001b[0;36mDispatcher.compile\u001b[1;34m(self, sig)\u001b[0m\n\u001b[0;32m    963\u001b[0m \u001b[39mwith\u001b[39;00m ev\u001b[39m.\u001b[39mtrigger_event(\u001b[39m\"\u001b[39m\u001b[39mnumba:compile\u001b[39m\u001b[39m\"\u001b[39m, data\u001b[39m=\u001b[39mev_details):\n\u001b[0;32m    964\u001b[0m     \u001b[39mtry\u001b[39;00m:\n\u001b[1;32m--> 965\u001b[0m         cres \u001b[39m=\u001b[39m \u001b[39mself\u001b[39;49m\u001b[39m.\u001b[39;49m_compiler\u001b[39m.\u001b[39;49mcompile(args, return_type)\n\u001b[0;32m    966\u001b[0m     \u001b[39mexcept\u001b[39;00m errors\u001b[39m.\u001b[39mForceLiteralArg \u001b[39mas\u001b[39;00m e:\n\u001b[0;32m    967\u001b[0m         \u001b[39mdef\u001b[39;00m \u001b[39mfolded\u001b[39m(args, kws):\n",
      "File \u001b[1;32mc:\\Users\\demva\\anaconda3\\envs\\bowels\\lib\\site-packages\\numba\\core\\dispatcher.py:129\u001b[0m, in \u001b[0;36m_FunctionCompiler.compile\u001b[1;34m(self, args, return_type)\u001b[0m\n\u001b[0;32m    127\u001b[0m     \u001b[39mreturn\u001b[39;00m retval\n\u001b[0;32m    128\u001b[0m \u001b[39melse\u001b[39;00m:\n\u001b[1;32m--> 129\u001b[0m     \u001b[39mraise\u001b[39;00m retval\n",
      "File \u001b[1;32mc:\\Users\\demva\\anaconda3\\envs\\bowels\\lib\\site-packages\\numba\\core\\dispatcher.py:139\u001b[0m, in \u001b[0;36m_FunctionCompiler._compile_cached\u001b[1;34m(self, args, return_type)\u001b[0m\n\u001b[0;32m    136\u001b[0m     \u001b[39mpass\u001b[39;00m\n\u001b[0;32m    138\u001b[0m \u001b[39mtry\u001b[39;00m:\n\u001b[1;32m--> 139\u001b[0m     retval \u001b[39m=\u001b[39m \u001b[39mself\u001b[39;49m\u001b[39m.\u001b[39;49m_compile_core(args, return_type)\n\u001b[0;32m    140\u001b[0m \u001b[39mexcept\u001b[39;00m errors\u001b[39m.\u001b[39mTypingError \u001b[39mas\u001b[39;00m e:\n\u001b[0;32m    141\u001b[0m     \u001b[39mself\u001b[39m\u001b[39m.\u001b[39m_failed_cache[key] \u001b[39m=\u001b[39m e\n",
      "File \u001b[1;32mc:\\Users\\demva\\anaconda3\\envs\\bowels\\lib\\site-packages\\numba\\core\\dispatcher.py:152\u001b[0m, in \u001b[0;36m_FunctionCompiler._compile_core\u001b[1;34m(self, args, return_type)\u001b[0m\n\u001b[0;32m    149\u001b[0m flags \u001b[39m=\u001b[39m \u001b[39mself\u001b[39m\u001b[39m.\u001b[39m_customize_flags(flags)\n\u001b[0;32m    151\u001b[0m impl \u001b[39m=\u001b[39m \u001b[39mself\u001b[39m\u001b[39m.\u001b[39m_get_implementation(args, {})\n\u001b[1;32m--> 152\u001b[0m cres \u001b[39m=\u001b[39m compiler\u001b[39m.\u001b[39;49mcompile_extra(\u001b[39mself\u001b[39;49m\u001b[39m.\u001b[39;49mtargetdescr\u001b[39m.\u001b[39;49mtyping_context,\n\u001b[0;32m    153\u001b[0m                               \u001b[39mself\u001b[39;49m\u001b[39m.\u001b[39;49mtargetdescr\u001b[39m.\u001b[39;49mtarget_context,\n\u001b[0;32m    154\u001b[0m                               impl,\n\u001b[0;32m    155\u001b[0m                               args\u001b[39m=\u001b[39;49margs, return_type\u001b[39m=\u001b[39;49mreturn_type,\n\u001b[0;32m    156\u001b[0m                               flags\u001b[39m=\u001b[39;49mflags, \u001b[39mlocals\u001b[39;49m\u001b[39m=\u001b[39;49m\u001b[39mself\u001b[39;49m\u001b[39m.\u001b[39;49mlocals,\n\u001b[0;32m    157\u001b[0m                               pipeline_class\u001b[39m=\u001b[39;49m\u001b[39mself\u001b[39;49m\u001b[39m.\u001b[39;49mpipeline_class)\n\u001b[0;32m    158\u001b[0m \u001b[39m# Check typing error if object mode is used\u001b[39;00m\n\u001b[0;32m    159\u001b[0m \u001b[39mif\u001b[39;00m cres\u001b[39m.\u001b[39mtyping_error \u001b[39mis\u001b[39;00m \u001b[39mnot\u001b[39;00m \u001b[39mNone\u001b[39;00m \u001b[39mand\u001b[39;00m \u001b[39mnot\u001b[39;00m flags\u001b[39m.\u001b[39menable_pyobject:\n",
      "File \u001b[1;32mc:\\Users\\demva\\anaconda3\\envs\\bowels\\lib\\site-packages\\numba\\core\\compiler.py:716\u001b[0m, in \u001b[0;36mcompile_extra\u001b[1;34m(typingctx, targetctx, func, args, return_type, flags, locals, library, pipeline_class)\u001b[0m\n\u001b[0;32m    692\u001b[0m \u001b[39m\"\"\"Compiler entry point\u001b[39;00m\n\u001b[0;32m    693\u001b[0m \n\u001b[0;32m    694\u001b[0m \u001b[39mParameter\u001b[39;00m\n\u001b[1;32m   (...)\u001b[0m\n\u001b[0;32m    712\u001b[0m \u001b[39m    compiler pipeline\u001b[39;00m\n\u001b[0;32m    713\u001b[0m \u001b[39m\"\"\"\u001b[39;00m\n\u001b[0;32m    714\u001b[0m pipeline \u001b[39m=\u001b[39m pipeline_class(typingctx, targetctx, library,\n\u001b[0;32m    715\u001b[0m                           args, return_type, flags, \u001b[39mlocals\u001b[39m)\n\u001b[1;32m--> 716\u001b[0m \u001b[39mreturn\u001b[39;00m pipeline\u001b[39m.\u001b[39;49mcompile_extra(func)\n",
      "File \u001b[1;32mc:\\Users\\demva\\anaconda3\\envs\\bowels\\lib\\site-packages\\numba\\core\\compiler.py:452\u001b[0m, in \u001b[0;36mCompilerBase.compile_extra\u001b[1;34m(self, func)\u001b[0m\n\u001b[0;32m    450\u001b[0m \u001b[39mself\u001b[39m\u001b[39m.\u001b[39mstate\u001b[39m.\u001b[39mlifted \u001b[39m=\u001b[39m ()\n\u001b[0;32m    451\u001b[0m \u001b[39mself\u001b[39m\u001b[39m.\u001b[39mstate\u001b[39m.\u001b[39mlifted_from \u001b[39m=\u001b[39m \u001b[39mNone\u001b[39;00m\n\u001b[1;32m--> 452\u001b[0m \u001b[39mreturn\u001b[39;00m \u001b[39mself\u001b[39;49m\u001b[39m.\u001b[39;49m_compile_bytecode()\n",
      "File \u001b[1;32mc:\\Users\\demva\\anaconda3\\envs\\bowels\\lib\\site-packages\\numba\\core\\compiler.py:520\u001b[0m, in \u001b[0;36mCompilerBase._compile_bytecode\u001b[1;34m(self)\u001b[0m\n\u001b[0;32m    516\u001b[0m \u001b[39m\"\"\"\u001b[39;00m\n\u001b[0;32m    517\u001b[0m \u001b[39mPopulate and run pipeline for bytecode input\u001b[39;00m\n\u001b[0;32m    518\u001b[0m \u001b[39m\"\"\"\u001b[39;00m\n\u001b[0;32m    519\u001b[0m \u001b[39massert\u001b[39;00m \u001b[39mself\u001b[39m\u001b[39m.\u001b[39mstate\u001b[39m.\u001b[39mfunc_ir \u001b[39mis\u001b[39;00m \u001b[39mNone\u001b[39;00m\n\u001b[1;32m--> 520\u001b[0m \u001b[39mreturn\u001b[39;00m \u001b[39mself\u001b[39;49m\u001b[39m.\u001b[39;49m_compile_core()\n",
      "File \u001b[1;32mc:\\Users\\demva\\anaconda3\\envs\\bowels\\lib\\site-packages\\numba\\core\\compiler.py:499\u001b[0m, in \u001b[0;36mCompilerBase._compile_core\u001b[1;34m(self)\u001b[0m\n\u001b[0;32m    497\u001b[0m         \u001b[39mself\u001b[39m\u001b[39m.\u001b[39mstate\u001b[39m.\u001b[39mstatus\u001b[39m.\u001b[39mfail_reason \u001b[39m=\u001b[39m e\n\u001b[0;32m    498\u001b[0m         \u001b[39mif\u001b[39;00m is_final_pipeline:\n\u001b[1;32m--> 499\u001b[0m             \u001b[39mraise\u001b[39;00m e\n\u001b[0;32m    500\u001b[0m \u001b[39melse\u001b[39;00m:\n\u001b[0;32m    501\u001b[0m     \u001b[39mraise\u001b[39;00m CompilerError(\u001b[39m\"\u001b[39m\u001b[39mAll available pipelines exhausted\u001b[39m\u001b[39m\"\u001b[39m)\n",
      "File \u001b[1;32mc:\\Users\\demva\\anaconda3\\envs\\bowels\\lib\\site-packages\\numba\\core\\compiler.py:486\u001b[0m, in \u001b[0;36mCompilerBase._compile_core\u001b[1;34m(self)\u001b[0m\n\u001b[0;32m    484\u001b[0m res \u001b[39m=\u001b[39m \u001b[39mNone\u001b[39;00m\n\u001b[0;32m    485\u001b[0m \u001b[39mtry\u001b[39;00m:\n\u001b[1;32m--> 486\u001b[0m     pm\u001b[39m.\u001b[39;49mrun(\u001b[39mself\u001b[39;49m\u001b[39m.\u001b[39;49mstate)\n\u001b[0;32m    487\u001b[0m     \u001b[39mif\u001b[39;00m \u001b[39mself\u001b[39m\u001b[39m.\u001b[39mstate\u001b[39m.\u001b[39mcr \u001b[39mis\u001b[39;00m \u001b[39mnot\u001b[39;00m \u001b[39mNone\u001b[39;00m:\n\u001b[0;32m    488\u001b[0m         \u001b[39mbreak\u001b[39;00m\n",
      "File \u001b[1;32mc:\\Users\\demva\\anaconda3\\envs\\bowels\\lib\\site-packages\\numba\\core\\compiler_machinery.py:368\u001b[0m, in \u001b[0;36mPassManager.run\u001b[1;34m(self, state)\u001b[0m\n\u001b[0;32m    365\u001b[0m msg \u001b[39m=\u001b[39m \u001b[39m\"\u001b[39m\u001b[39mFailed in \u001b[39m\u001b[39m%s\u001b[39;00m\u001b[39m mode pipeline (step: \u001b[39m\u001b[39m%s\u001b[39;00m\u001b[39m)\u001b[39m\u001b[39m\"\u001b[39m \u001b[39m%\u001b[39m \\\n\u001b[0;32m    366\u001b[0m     (\u001b[39mself\u001b[39m\u001b[39m.\u001b[39mpipeline_name, pass_desc)\n\u001b[0;32m    367\u001b[0m patched_exception \u001b[39m=\u001b[39m \u001b[39mself\u001b[39m\u001b[39m.\u001b[39m_patch_error(msg, e)\n\u001b[1;32m--> 368\u001b[0m \u001b[39mraise\u001b[39;00m patched_exception\n",
      "File \u001b[1;32mc:\\Users\\demva\\anaconda3\\envs\\bowels\\lib\\site-packages\\numba\\core\\compiler_machinery.py:356\u001b[0m, in \u001b[0;36mPassManager.run\u001b[1;34m(self, state)\u001b[0m\n\u001b[0;32m    354\u001b[0m pass_inst \u001b[39m=\u001b[39m _pass_registry\u001b[39m.\u001b[39mget(pss)\u001b[39m.\u001b[39mpass_inst\n\u001b[0;32m    355\u001b[0m \u001b[39mif\u001b[39;00m \u001b[39misinstance\u001b[39m(pass_inst, CompilerPass):\n\u001b[1;32m--> 356\u001b[0m     \u001b[39mself\u001b[39;49m\u001b[39m.\u001b[39;49m_runPass(idx, pass_inst, state)\n\u001b[0;32m    357\u001b[0m \u001b[39melse\u001b[39;00m:\n\u001b[0;32m    358\u001b[0m     \u001b[39mraise\u001b[39;00m \u001b[39mBaseException\u001b[39;00m(\u001b[39m\"\u001b[39m\u001b[39mLegacy pass in use\u001b[39m\u001b[39m\"\u001b[39m)\n",
      "File \u001b[1;32mc:\\Users\\demva\\anaconda3\\envs\\bowels\\lib\\site-packages\\numba\\core\\compiler_lock.py:35\u001b[0m, in \u001b[0;36m_CompilerLock.__call__.<locals>._acquire_compile_lock\u001b[1;34m(*args, **kwargs)\u001b[0m\n\u001b[0;32m     32\u001b[0m \u001b[39m@functools\u001b[39m\u001b[39m.\u001b[39mwraps(func)\n\u001b[0;32m     33\u001b[0m \u001b[39mdef\u001b[39;00m \u001b[39m_acquire_compile_lock\u001b[39m(\u001b[39m*\u001b[39margs, \u001b[39m*\u001b[39m\u001b[39m*\u001b[39mkwargs):\n\u001b[0;32m     34\u001b[0m     \u001b[39mwith\u001b[39;00m \u001b[39mself\u001b[39m:\n\u001b[1;32m---> 35\u001b[0m         \u001b[39mreturn\u001b[39;00m func(\u001b[39m*\u001b[39margs, \u001b[39m*\u001b[39m\u001b[39m*\u001b[39mkwargs)\n",
      "File \u001b[1;32mc:\\Users\\demva\\anaconda3\\envs\\bowels\\lib\\site-packages\\numba\\core\\compiler_machinery.py:311\u001b[0m, in \u001b[0;36mPassManager._runPass\u001b[1;34m(self, index, pss, internal_state)\u001b[0m\n\u001b[0;32m    309\u001b[0m     mutated \u001b[39m|\u001b[39m\u001b[39m=\u001b[39m check(pss\u001b[39m.\u001b[39mrun_initialization, internal_state)\n\u001b[0;32m    310\u001b[0m \u001b[39mwith\u001b[39;00m SimpleTimer() \u001b[39mas\u001b[39;00m pass_time:\n\u001b[1;32m--> 311\u001b[0m     mutated \u001b[39m|\u001b[39m\u001b[39m=\u001b[39m check(pss\u001b[39m.\u001b[39;49mrun_pass, internal_state)\n\u001b[0;32m    312\u001b[0m \u001b[39mwith\u001b[39;00m SimpleTimer() \u001b[39mas\u001b[39;00m finalize_time:\n\u001b[0;32m    313\u001b[0m     mutated \u001b[39m|\u001b[39m\u001b[39m=\u001b[39m check(pss\u001b[39m.\u001b[39mrun_finalizer, internal_state)\n",
      "File \u001b[1;32mc:\\Users\\demva\\anaconda3\\envs\\bowels\\lib\\site-packages\\numba\\core\\compiler_machinery.py:273\u001b[0m, in \u001b[0;36mPassManager._runPass.<locals>.check\u001b[1;34m(func, compiler_state)\u001b[0m\n\u001b[0;32m    272\u001b[0m \u001b[39mdef\u001b[39;00m \u001b[39mcheck\u001b[39m(func, compiler_state):\n\u001b[1;32m--> 273\u001b[0m     mangled \u001b[39m=\u001b[39m func(compiler_state)\n\u001b[0;32m    274\u001b[0m     \u001b[39mif\u001b[39;00m mangled \u001b[39mnot\u001b[39;00m \u001b[39min\u001b[39;00m (\u001b[39mTrue\u001b[39;00m, \u001b[39mFalse\u001b[39;00m):\n\u001b[0;32m    275\u001b[0m         msg \u001b[39m=\u001b[39m (\u001b[39m\"\u001b[39m\u001b[39mCompilerPass implementations should return True/False. \u001b[39m\u001b[39m\"\u001b[39m\n\u001b[0;32m    276\u001b[0m                \u001b[39m\"\u001b[39m\u001b[39mCompilerPass with name \u001b[39m\u001b[39m'\u001b[39m\u001b[39m%s\u001b[39;00m\u001b[39m'\u001b[39m\u001b[39m did not.\u001b[39m\u001b[39m\"\u001b[39m)\n",
      "File \u001b[1;32mc:\\Users\\demva\\anaconda3\\envs\\bowels\\lib\\site-packages\\numba\\core\\typed_passes.py:105\u001b[0m, in \u001b[0;36mBaseTypeInference.run_pass\u001b[1;34m(self, state)\u001b[0m\n\u001b[0;32m     99\u001b[0m \u001b[39m\"\"\"\u001b[39;00m\n\u001b[0;32m    100\u001b[0m \u001b[39mType inference and legalization\u001b[39;00m\n\u001b[0;32m    101\u001b[0m \u001b[39m\"\"\"\u001b[39;00m\n\u001b[0;32m    102\u001b[0m \u001b[39mwith\u001b[39;00m fallback_context(state, \u001b[39m'\u001b[39m\u001b[39mFunction \u001b[39m\u001b[39m\"\u001b[39m\u001b[39m%s\u001b[39;00m\u001b[39m\"\u001b[39m\u001b[39m failed type inference\u001b[39m\u001b[39m'\u001b[39m\n\u001b[0;32m    103\u001b[0m                       \u001b[39m%\u001b[39m (state\u001b[39m.\u001b[39mfunc_id\u001b[39m.\u001b[39mfunc_name,)):\n\u001b[0;32m    104\u001b[0m     \u001b[39m# Type inference\u001b[39;00m\n\u001b[1;32m--> 105\u001b[0m     typemap, return_type, calltypes, errs \u001b[39m=\u001b[39m type_inference_stage(\n\u001b[0;32m    106\u001b[0m         state\u001b[39m.\u001b[39;49mtypingctx,\n\u001b[0;32m    107\u001b[0m         state\u001b[39m.\u001b[39;49mtargetctx,\n\u001b[0;32m    108\u001b[0m         state\u001b[39m.\u001b[39;49mfunc_ir,\n\u001b[0;32m    109\u001b[0m         state\u001b[39m.\u001b[39;49margs,\n\u001b[0;32m    110\u001b[0m         state\u001b[39m.\u001b[39;49mreturn_type,\n\u001b[0;32m    111\u001b[0m         state\u001b[39m.\u001b[39;49mlocals,\n\u001b[0;32m    112\u001b[0m         raise_errors\u001b[39m=\u001b[39;49m\u001b[39mself\u001b[39;49m\u001b[39m.\u001b[39;49m_raise_errors)\n\u001b[0;32m    113\u001b[0m     state\u001b[39m.\u001b[39mtypemap \u001b[39m=\u001b[39m typemap\n\u001b[0;32m    114\u001b[0m     \u001b[39m# save errors in case of partial typing\u001b[39;00m\n",
      "File \u001b[1;32mc:\\Users\\demva\\anaconda3\\envs\\bowels\\lib\\site-packages\\numba\\core\\typed_passes.py:83\u001b[0m, in \u001b[0;36mtype_inference_stage\u001b[1;34m(typingctx, targetctx, interp, args, return_type, locals, raise_errors)\u001b[0m\n\u001b[0;32m     81\u001b[0m     infer\u001b[39m.\u001b[39mbuild_constraint()\n\u001b[0;32m     82\u001b[0m     \u001b[39m# return errors in case of partial typing\u001b[39;00m\n\u001b[1;32m---> 83\u001b[0m     errs \u001b[39m=\u001b[39m infer\u001b[39m.\u001b[39;49mpropagate(raise_errors\u001b[39m=\u001b[39;49mraise_errors)\n\u001b[0;32m     84\u001b[0m     typemap, restype, calltypes \u001b[39m=\u001b[39m infer\u001b[39m.\u001b[39munify(raise_errors\u001b[39m=\u001b[39mraise_errors)\n\u001b[0;32m     86\u001b[0m \u001b[39m# Output all Numba warnings\u001b[39;00m\n",
      "File \u001b[1;32mc:\\Users\\demva\\anaconda3\\envs\\bowels\\lib\\site-packages\\numba\\core\\typeinfer.py:1086\u001b[0m, in \u001b[0;36mTypeInferer.propagate\u001b[1;34m(self, raise_errors)\u001b[0m\n\u001b[0;32m   1083\u001b[0m force_lit_args \u001b[39m=\u001b[39m [e \u001b[39mfor\u001b[39;00m e \u001b[39min\u001b[39;00m errors\n\u001b[0;32m   1084\u001b[0m                   \u001b[39mif\u001b[39;00m \u001b[39misinstance\u001b[39m(e, ForceLiteralArg)]\n\u001b[0;32m   1085\u001b[0m \u001b[39mif\u001b[39;00m \u001b[39mnot\u001b[39;00m force_lit_args:\n\u001b[1;32m-> 1086\u001b[0m     \u001b[39mraise\u001b[39;00m errors[\u001b[39m0\u001b[39m]\n\u001b[0;32m   1087\u001b[0m \u001b[39melse\u001b[39;00m:\n\u001b[0;32m   1088\u001b[0m     \u001b[39mraise\u001b[39;00m reduce(operator\u001b[39m.\u001b[39mor_, force_lit_args)\n",
      "\u001b[1;31mTypingError\u001b[0m: Failed in nopython mode pipeline (step: nopython frontend)\n\u001b[1m\u001b[1mNo conversion from array(int64, 1d, C) to array(int32, 1d, A) for '$12return_value.4', defined at None\n\u001b[1m\nFile \"C:\\Users\\demva\\AppData\\Local\\Temp\\ipykernel_18624\\345507318.py\", line 4:\u001b[0m\n\u001b[1mdef njit_empty_test(a):\n    <source elided>\n    a = a + 1\n\u001b[1m    return a\n\u001b[0m    \u001b[1m^\u001b[0m\u001b[0m\n\u001b[0m\n\u001b[0m\u001b[1mDuring: typing of assignment at C:\\Users\\demva\\AppData\\Local\\Temp\\ipykernel_18624\\345507318.py (4)\u001b[0m\n\u001b[1m\nFile \"C:\\Users\\demva\\AppData\\Local\\Temp\\ipykernel_18624\\345507318.py\", line 4:\u001b[0m\n\u001b[1mdef njit_empty_test(a):\n    <source elided>\n    a = a + 1\n\u001b[1m    return a\n\u001b[0m    \u001b[1m^\u001b[0m\u001b[0m\n"
     ]
    }
   ],
   "source": [
    "@njit(\"int32[:](int32[:])\")\n",
    "def njit_empty_test(a):\n",
    "    a = a + 1\n",
    "    return a\n",
    "\n",
    "a = np.array([1,2], np.int32)\n",
    "njit_empty_test(a)\n"
   ]
  },
  {
   "cell_type": "markdown",
   "metadata": {},
   "source": [
    "## Empty"
   ]
  },
  {
   "cell_type": "code",
   "execution_count": null,
   "metadata": {},
   "outputs": [],
   "source": [
    "@njit\n",
    "def empty(dims):\n",
    "    return np.empty(dims)\n",
    "\n",
    "dims1 = (2,3)\n",
    "dims2 = np.array([2,3])"
   ]
  },
  {
   "cell_type": "code",
   "execution_count": null,
   "metadata": {},
   "outputs": [],
   "source": [
    "empty(dims1)"
   ]
  },
  {
   "cell_type": "code",
   "execution_count": null,
   "metadata": {},
   "outputs": [],
   "source": [
    "empty(dims2)\n"
   ]
  },
  {
   "cell_type": "code",
   "execution_count": null,
   "metadata": {},
   "outputs": [],
   "source": []
  }
 ],
 "metadata": {
  "kernelspec": {
   "display_name": "Python 3.10.4 ('bowels')",
   "language": "python",
   "name": "python3"
  },
  "language_info": {
   "codemirror_mode": {
    "name": "ipython",
    "version": 3
   },
   "file_extension": ".py",
   "mimetype": "text/x-python",
   "name": "python",
   "nbconvert_exporter": "python",
   "pygments_lexer": "ipython3",
   "version": "3.10.4"
  },
  "orig_nbformat": 4,
  "vscode": {
   "interpreter": {
    "hash": "1532b9a924d0c04a25717918ec68939d613fe25ea862949fde5ad1cd42522576"
   }
  }
 },
 "nbformat": 4,
 "nbformat_minor": 2
}
